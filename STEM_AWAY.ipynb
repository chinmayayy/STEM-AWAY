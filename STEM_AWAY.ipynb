{
  "nbformat": 4,
  "nbformat_minor": 0,
  "metadata": {
    "colab": {
      "name": "STEM-AWAY.ipynb",
      "provenance": [],
      "collapsed_sections": [],
      "include_colab_link": true
    },
    "kernelspec": {
      "name": "python3",
      "display_name": "Python 3"
    },
    "language_info": {
      "name": "python"
    }
  },
  "cells": [
    {
      "cell_type": "markdown",
      "metadata": {
        "id": "view-in-github",
        "colab_type": "text"
      },
      "source": [
        "<a href=\"https://colab.research.google.com/github/chinmaychahar/STEM-AWAY/blob/main/STEM_AWAY.ipynb\" target=\"_parent\"><img src=\"https://colab.research.google.com/assets/colab-badge.svg\" alt=\"Open In Colab\"/></a>"
      ]
    },
    {
      "cell_type": "code",
      "metadata": {
        "id": "R1sT8A3g1Hyf"
      },
      "source": [
        "!apt update\n",
        "!apt install chromium-chromedriver\n",
        "!pip install selenium"
      ],
      "execution_count": null,
      "outputs": []
    },
    {
      "cell_type": "code",
      "metadata": {
        "id": "hqDP4AQB5IKH"
      },
      "source": [
        "import time\n",
        "from datetime import datetime\n",
        "import os\n",
        "from bs4 import BeautifulSoup\n",
        "from selenium import webdriver\n",
        "import pandas as pd\n",
        "import json\n",
        "import numpy as np\n",
        "import re\n",
        "import string\n",
        "from nltk.corpus import stopwords\n",
        "from nltk.stem import WordNetLemmatizer\n",
        "from nltk.stem.porter import PorterStemmer"
      ],
      "execution_count": null,
      "outputs": []
    },
    {
      "cell_type": "code",
      "metadata": {
        "id": "xYr-5lFB5I6s"
      },
      "source": [
        "from selenium import webdriver\n",
        "#PROXY = \"117.197.119.151:8080\"\n",
        "options = webdriver.ChromeOptions()\n",
        "options.add_argument('--headless')\n",
        "#options.add_argument('--proxy-server=%s' % PROXY)\n",
        "options.add_argument('--no-sandbox')\n",
        "options.add_argument('--disable-dev-shm-usage')\n",
        "# open it, go to a website, and get results\n",
        "driver = webdriver.Chrome(options=options)\n",
        "#wait = WebDriverWait(driver, 10)\n",
        "    # retrive url in headless browser\n",
        "driver.get('https://discuss.codecademy.com/c/get-help/1801')\n",
        "\n",
        "#print(wd.page_source)  # results"
      ],
      "execution_count": null,
      "outputs": []
    },
    {
      "cell_type": "code",
      "metadata": {
        "id": "chT2oxM96DTE"
      },
      "source": [
        "topicHTML = driver.page_source\n",
        "Topic = BeautifulSoup(topicHTML, 'html.parser')"
      ],
      "execution_count": null,
      "outputs": []
    },
    {
      "cell_type": "code",
      "metadata": {
        "id": "03AIvKI25slX"
      },
      "source": [
        "def get_title(topicSoup):\n",
        "        topicName = topicSoup.find('a', class_='raw-topic-link')\n",
        "        if topicName == None:\n",
        "            return str(0)\n",
        "        else:\n",
        "            topicName = topicName.text\n",
        "        # Remove leading and trailing spaces and newlines\n",
        "        topicName = topicName.replace('\\n', '').strip()\n",
        "        return topicName\n"
      ],
      "execution_count": null,
      "outputs": []
    },
    {
      "cell_type": "code",
      "metadata": {
        "colab": {
          "base_uri": "https://localhost:8080/",
          "height": 35
        },
        "id": "vr43ph7H6LLZ",
        "outputId": "1ae7d97c-77a7-40f2-e3dd-0fe036acc175"
      },
      "source": [
        "get_title(Topic)"
      ],
      "execution_count": null,
      "outputs": [
        {
          "output_type": "execute_result",
          "data": {
            "application/vnd.google.colaboratory.intrinsic+json": {
              "type": "string"
            },
            "text/plain": [
              "'About the Get Help category'"
            ]
          },
          "metadata": {
            "tags": []
          },
          "execution_count": 70
        }
      ]
    },
    {
      "cell_type": "code",
      "metadata": {
        "id": "lKI9uBXf6N6B"
      },
      "source": [
        "def get_category_and_tags(topicSoup):\n",
        "        topicCategoryDiv = topicSoup.find(\n",
        "            'div', class_='link-bottom-line')\n",
        "        categoryAnchors = topicCategoryDiv.find('span', class_='category-name')\n",
        "        tagAnchors = topicCategoryDiv.find_all(\n",
        "            'a', class_='discourse-tag bullet')\n",
        "\n",
        "        category = categoryAnchors.text\n",
        "        tagList = []\n",
        "        for anchor in tagAnchors:\n",
        "            tagList.append(anchor.text)\n",
        "        return category"
      ],
      "execution_count": null,
      "outputs": []
    },
    {
      "cell_type": "code",
      "metadata": {
        "colab": {
          "base_uri": "https://localhost:8080/",
          "height": 35
        },
        "id": "KgWHaAsI6_-9",
        "outputId": "b5d90952-cee9-4c82-8b12-e506ad566adb"
      },
      "source": [
        "get_category_and_tags(Topic)"
      ],
      "execution_count": null,
      "outputs": [
        {
          "output_type": "execute_result",
          "data": {
            "application/vnd.google.colaboratory.intrinsic+json": {
              "type": "string"
            },
            "text/plain": [
              "'Get Help'"
            ]
          },
          "metadata": {
            "tags": []
          },
          "execution_count": 72
        }
      ]
    },
    {
      "cell_type": "code",
      "metadata": {
        "colab": {
          "base_uri": "https://localhost:8080/"
        },
        "id": "TIAwpotA7Cvi",
        "outputId": "7a1ecb47-1800-43e1-f9b9-732d99676510"
      },
      "source": [
        "def get_author_and_commenters( topicSoup):\n",
        "        names_tag = topicSoup.find(\"td\", class_=\"posters\")\n",
        "        names = names_tag.find_all('a')\n",
        "        authorList = []\n",
        "        for name in names:\n",
        "          #print(name['data-user-card'])\n",
        "          authorList.append(name['data-user-card'])\n",
        "        \n",
        "        authorList = list(set(authorList))\n",
        "        if (len(authorList) == 1):\n",
        "            author = authorList[0]\n",
        "            commenters = []\n",
        "            return author, commenters\n",
        "        else:\n",
        "            author = authorList[0]\n",
        "            commenters = authorList[1:]\n",
        "            return author, commenters\n",
        "\n",
        "get_author_and_commenters(Topic)"
      ],
      "execution_count": null,
      "outputs": [
        {
          "output_type": "execute_result",
          "data": {
            "text/plain": [
              "('alexc', ['oduffy'])"
            ]
          },
          "metadata": {
            "tags": []
          },
          "execution_count": 73
        }
      ]
    },
    {
      "cell_type": "markdown",
      "metadata": {
        "id": "TkSqIDMDDKPt"
      },
      "source": [
        "Trying next"
      ]
    },
    {
      "cell_type": "code",
      "metadata": {
        "id": "SK3SQqwEAd7p"
      },
      "source": [
        "from selenium import webdriver\n",
        "#PROXY = \"117.197.119.151:8080\"\n",
        "options = webdriver.ChromeOptions()\n",
        "options.add_argument('--headless')\n",
        "#options.add_argument('--proxy-server=%s' % PROXY)\n",
        "options.add_argument('--no-sandbox')\n",
        "options.add_argument('--disable-dev-shm-usage')\n",
        "# open it, go to a website, and get results\n",
        "driver = webdriver.Chrome(options=options)\n",
        "#wait = WebDriverWait(driver, 10)\n",
        "    # retrive url in headless browser\n",
        "driver.get('https://discuss.codecademy.com/c/get-help/1801')\n",
        "\n",
        "#print(wd.page_source)  # results"
      ],
      "execution_count": null,
      "outputs": []
    },
    {
      "cell_type": "code",
      "metadata": {
        "id": "V4ahMDLNDQXs"
      },
      "source": [
        "for i in range(3):\n",
        "    driver.execute_script(\"window.scrollTo(0, document.body.scrollHeight);\")\n",
        "    time.sleep(3)\n",
        "\n",
        "data = driver.find_elements_by_css_selector('a[class = \"title raw-link raw-topic-link\"]')\n",
        "titles = [x.text for x in data]\n",
        "links = [x.get_attribute('href') for x in data]\n",
        "\n",
        "subcat_data = driver.find_elements_by_css_selector('span[class = \"category-name\"]')\n",
        "subcategory = [x.text for x in subcat_data[1:]]\n",
        "\n",
        "contents = []\n",
        "for link in links:\n",
        "    driver.get(link)\n",
        "    data = driver.find_elements_by_css_selector('div[class = \"cooked\"]')\n",
        "    content = [x.text.replace('\\n', ' ') for x in data]\n",
        "    contents.append(content)\n",
        "\n",
        "time.sleep(5)\n",
        "driver.quit()"
      ],
      "execution_count": null,
      "outputs": []
    },
    {
      "cell_type": "code",
      "metadata": {
        "id": "_T8GVJHoDVvy"
      },
      "source": [
        "# Taking Posts Content\n",
        "posts = []\n",
        "responses = []\n",
        "for line in contents:\n",
        "    #print(line)\n",
        "    posts.append(line[0])\n",
        "    responses.append(line[1:2])\n"
      ],
      "execution_count": null,
      "outputs": []
    },
    {
      "cell_type": "code",
      "metadata": {
        "id": "Gx6JeHHiDerx"
      },
      "source": [
        "def response_df(urls, resps):\n",
        "    column_names = ['URL', 'Response Text']\n",
        "    df_resps = pd.DataFrame(columns = column_names)\n",
        "    for url,line in zip(urls, resps):\n",
        "        n = len(line)\n",
        "        sub_urls = [url] * n\n",
        "        new_df = pd.DataFrame(list(zip(sub_urls, line)), columns = column_names)\n",
        "        df_resps = pd.concat([df_resps, new_df])\n",
        "    return df_resps"
      ],
      "execution_count": null,
      "outputs": []
    },
    {
      "cell_type": "code",
      "metadata": {
        "id": "gY-OjYzfFHio"
      },
      "source": [
        "\n",
        "DF1 = pd.DataFrame(titles, columns=['Title'])\n",
        "DF1['Category'] = subcategory\n",
        "#DF1['Sub-category'] = subcategory\n",
        "DF1['Post Text'] = posts\n",
        "DF1['URL'] = links\n",
        "DF1['Leading Comments'] = responses"
      ],
      "execution_count": null,
      "outputs": []
    },
    {
      "cell_type": "code",
      "metadata": {
        "id": "-JbnAe1naLKs",
        "colab": {
          "base_uri": "https://localhost:8080/",
          "height": 289
        },
        "outputId": "932543a0-7666-45ae-872b-a91b8f8e5446"
      },
      "source": [
        "DF1.head()"
      ],
      "execution_count": null,
      "outputs": [
        {
          "output_type": "execute_result",
          "data": {
            "text/html": [
              "<div>\n",
              "<style scoped>\n",
              "    .dataframe tbody tr th:only-of-type {\n",
              "        vertical-align: middle;\n",
              "    }\n",
              "\n",
              "    .dataframe tbody tr th {\n",
              "        vertical-align: top;\n",
              "    }\n",
              "\n",
              "    .dataframe thead th {\n",
              "        text-align: right;\n",
              "    }\n",
              "</style>\n",
              "<table border=\"1\" class=\"dataframe\">\n",
              "  <thead>\n",
              "    <tr style=\"text-align: right;\">\n",
              "      <th></th>\n",
              "      <th>Title</th>\n",
              "      <th>Category</th>\n",
              "      <th>Post Text</th>\n",
              "      <th>URL</th>\n",
              "      <th>Leading Comments</th>\n",
              "    </tr>\n",
              "  </thead>\n",
              "  <tbody>\n",
              "    <tr>\n",
              "      <th>0</th>\n",
              "      <td>About the Get Help category</td>\n",
              "      <td>Get Help</td>\n",
              "      <td>Ask questions, get help with an exercise, and ...</td>\n",
              "      <td>https://discuss.codecademy.com/t/about-the-get...</td>\n",
              "      <td>[]</td>\n",
              "    </tr>\n",
              "    <tr>\n",
              "      <th>1</th>\n",
              "      <td>Can’t fix this typo</td>\n",
              "      <td>HTML</td>\n",
              "      <td>Hi all, I just have a quick question. Just loo...</td>\n",
              "      <td>https://discuss.codecademy.com/t/cant-fix-this...</td>\n",
              "      <td>[Hey, and welcome to the forums! I think it mi...</td>\n",
              "    </tr>\n",
              "    <tr>\n",
              "      <th>2</th>\n",
              "      <td>Jamming project next steps</td>\n",
              "      <td>JavaScript</td>\n",
              "      <td>Hi, this is my version of Jamming project: htt...</td>\n",
              "      <td>https://discuss.codecademy.com/t/jamming-proje...</td>\n",
              "      <td>[]</td>\n",
              "    </tr>\n",
              "    <tr>\n",
              "      <th>3</th>\n",
              "      <td>Importing a Method From a Specific Class In a ...</td>\n",
              "      <td>Python</td>\n",
              "      <td>Sometimes l want to import methods from differ...</td>\n",
              "      <td>https://discuss.codecademy.com/t/importing-a-m...</td>\n",
              "      <td>[You need to carefully check what you’re impor...</td>\n",
              "    </tr>\n",
              "    <tr>\n",
              "      <th>4</th>\n",
              "      <td>Introduction To Machine Learning in R: Predict...</td>\n",
              "      <td>R category</td>\n",
              "      <td>Hey all, Getting to the end of the course on R...</td>\n",
              "      <td>https://discuss.codecademy.com/t/introduction-...</td>\n",
              "      <td>[I just finished with this activity and ran in...</td>\n",
              "    </tr>\n",
              "  </tbody>\n",
              "</table>\n",
              "</div>"
            ],
            "text/plain": [
              "                                               Title  ...                                   Leading Comments\n",
              "0                        About the Get Help category  ...                                                 []\n",
              "1                                Can’t fix this typo  ...  [Hey, and welcome to the forums! I think it mi...\n",
              "2                         Jamming project next steps  ...                                                 []\n",
              "3  Importing a Method From a Specific Class In a ...  ...  [You need to carefully check what you’re impor...\n",
              "4  Introduction To Machine Learning in R: Predict...  ...  [I just finished with this activity and ran in...\n",
              "\n",
              "[5 rows x 5 columns]"
            ]
          },
          "metadata": {
            "tags": []
          },
          "execution_count": 79
        }
      ]
    },
    {
      "cell_type": "code",
      "metadata": {
        "id": "IWkvRdsbmula"
      },
      "source": [
        "DF2 = response_df(links, responses)"
      ],
      "execution_count": null,
      "outputs": []
    },
    {
      "cell_type": "code",
      "metadata": {
        "id": "uVb8Gi_SoyAg"
      },
      "source": [
        "DF1.to_csv(\"DF1.csv\", index = False)\n",
        "DF2.to_csv(\"DF2.csv\", index = False)"
      ],
      "execution_count": null,
      "outputs": []
    },
    {
      "cell_type": "markdown",
      "metadata": {
        "id": "skhOh6IxxM82"
      },
      "source": [
        "EDA"
      ]
    },
    {
      "cell_type": "code",
      "metadata": {
        "id": "BoZF2ACouhn4",
        "colab": {
          "base_uri": "https://localhost:8080/"
        },
        "outputId": "665c9f48-48e8-4ec7-c5a5-50954b1b80b0"
      },
      "source": [
        "DF1.isna().sum()"
      ],
      "execution_count": null,
      "outputs": [
        {
          "output_type": "execute_result",
          "data": {
            "text/plain": [
              "Title               0\n",
              "Category            0\n",
              "Post Text           0\n",
              "URL                 0\n",
              "Leading Comments    0\n",
              "dtype: int64"
            ]
          },
          "metadata": {
            "tags": []
          },
          "execution_count": 82
        }
      ]
    },
    {
      "cell_type": "code",
      "metadata": {
        "id": "5uvxLv-2usTn"
      },
      "source": [
        "DF1.dropna(axis=0, inplace=True)"
      ],
      "execution_count": null,
      "outputs": []
    },
    {
      "cell_type": "code",
      "metadata": {
        "id": "UgWZ2uFbo2xo",
        "colab": {
          "base_uri": "https://localhost:8080/"
        },
        "outputId": "8b2acc5f-22e1-44b2-aa18-dd4806abbccb"
      },
      "source": [
        "DF1.Category.unique()"
      ],
      "execution_count": null,
      "outputs": [
        {
          "output_type": "execute_result",
          "data": {
            "text/plain": [
              "array(['Get Help', 'HTML', 'JavaScript', 'Python', 'R category',\n",
              "       'React.js', 'SQL', 'General Programming', 'Java', 'jQuery', 'CSS',\n",
              "       'Node.js', 'C++', 'Codecademy', 'Git', 'Express.js'], dtype=object)"
            ]
          },
          "metadata": {
            "tags": []
          },
          "execution_count": 84
        }
      ]
    },
    {
      "cell_type": "code",
      "metadata": {
        "id": "N7Px-FNbu1C-",
        "colab": {
          "base_uri": "https://localhost:8080/"
        },
        "outputId": "65269ad9-c40d-4354-e96f-c36b95825e43"
      },
      "source": [
        "DF1.columns"
      ],
      "execution_count": null,
      "outputs": [
        {
          "output_type": "execute_result",
          "data": {
            "text/plain": [
              "Index(['Title', 'Category', 'Post Text', 'URL', 'Leading Comments'], dtype='object')"
            ]
          },
          "metadata": {
            "tags": []
          },
          "execution_count": 85
        }
      ]
    },
    {
      "cell_type": "code",
      "metadata": {
        "id": "8q2tN43JvBXs"
      },
      "source": [
        "DF1.drop(columns=['URL'], inplace=True)"
      ],
      "execution_count": null,
      "outputs": []
    },
    {
      "cell_type": "code",
      "metadata": {
        "id": "LQCsDlS4wCOZ"
      },
      "source": [
        "DF1 = DF1.iloc[1: , :]\n",
        "#remove first row as it was system generated FAQ with no comments"
      ],
      "execution_count": null,
      "outputs": []
    },
    {
      "cell_type": "code",
      "metadata": {
        "id": "_LBcqcSivM0Q",
        "colab": {
          "base_uri": "https://localhost:8080/",
          "height": 204
        },
        "outputId": "d2e48357-3222-4cf2-8873-51e44cd22ca5"
      },
      "source": [
        "DF1.head()"
      ],
      "execution_count": null,
      "outputs": [
        {
          "output_type": "execute_result",
          "data": {
            "text/html": [
              "<div>\n",
              "<style scoped>\n",
              "    .dataframe tbody tr th:only-of-type {\n",
              "        vertical-align: middle;\n",
              "    }\n",
              "\n",
              "    .dataframe tbody tr th {\n",
              "        vertical-align: top;\n",
              "    }\n",
              "\n",
              "    .dataframe thead th {\n",
              "        text-align: right;\n",
              "    }\n",
              "</style>\n",
              "<table border=\"1\" class=\"dataframe\">\n",
              "  <thead>\n",
              "    <tr style=\"text-align: right;\">\n",
              "      <th></th>\n",
              "      <th>Title</th>\n",
              "      <th>Category</th>\n",
              "      <th>Post Text</th>\n",
              "      <th>Leading Comments</th>\n",
              "    </tr>\n",
              "  </thead>\n",
              "  <tbody>\n",
              "    <tr>\n",
              "      <th>1</th>\n",
              "      <td>Can’t fix this typo</td>\n",
              "      <td>HTML</td>\n",
              "      <td>Hi all, I just have a quick question. Just loo...</td>\n",
              "      <td>[Hey, and welcome to the forums! I think it mi...</td>\n",
              "    </tr>\n",
              "    <tr>\n",
              "      <th>2</th>\n",
              "      <td>Jamming project next steps</td>\n",
              "      <td>JavaScript</td>\n",
              "      <td>Hi, this is my version of Jamming project: htt...</td>\n",
              "      <td>[]</td>\n",
              "    </tr>\n",
              "    <tr>\n",
              "      <th>3</th>\n",
              "      <td>Importing a Method From a Specific Class In a ...</td>\n",
              "      <td>Python</td>\n",
              "      <td>Sometimes l want to import methods from differ...</td>\n",
              "      <td>[You need to carefully check what you’re impor...</td>\n",
              "    </tr>\n",
              "    <tr>\n",
              "      <th>4</th>\n",
              "      <td>Introduction To Machine Learning in R: Predict...</td>\n",
              "      <td>R category</td>\n",
              "      <td>Hey all, Getting to the end of the course on R...</td>\n",
              "      <td>[I just finished with this activity and ran in...</td>\n",
              "    </tr>\n",
              "    <tr>\n",
              "      <th>5</th>\n",
              "      <td>Meal Maker project - Cannot read property ‘len...</td>\n",
              "      <td>JavaScript</td>\n",
              "      <td>const menu = { _courses: { appetizers: [], mai...</td>\n",
              "      <td>[Veery small typo: the property in _courses is...</td>\n",
              "    </tr>\n",
              "  </tbody>\n",
              "</table>\n",
              "</div>"
            ],
            "text/plain": [
              "                                               Title  ...                                   Leading Comments\n",
              "1                                Can’t fix this typo  ...  [Hey, and welcome to the forums! I think it mi...\n",
              "2                         Jamming project next steps  ...                                                 []\n",
              "3  Importing a Method From a Specific Class In a ...  ...  [You need to carefully check what you’re impor...\n",
              "4  Introduction To Machine Learning in R: Predict...  ...  [I just finished with this activity and ran in...\n",
              "5  Meal Maker project - Cannot read property ‘len...  ...  [Veery small typo: the property in _courses is...\n",
              "\n",
              "[5 rows x 4 columns]"
            ]
          },
          "metadata": {
            "tags": []
          },
          "execution_count": 88
        }
      ]
    },
    {
      "cell_type": "code",
      "metadata": {
        "id": "Vys-1qlBvSfE"
      },
      "source": [
        "DF1.rename(columns={'Leading Comments': 'texts', 'Category': 'labels'}, inplace=True)"
      ],
      "execution_count": null,
      "outputs": []
    },
    {
      "cell_type": "code",
      "metadata": {
        "id": "QvG6jXQEqw5S",
        "colab": {
          "base_uri": "https://localhost:8080/",
          "height": 204
        },
        "outputId": "8df2efad-a374-4258-f3db-9fa357924eb5"
      },
      "source": [
        "DF1.head()"
      ],
      "execution_count": null,
      "outputs": [
        {
          "output_type": "execute_result",
          "data": {
            "text/html": [
              "<div>\n",
              "<style scoped>\n",
              "    .dataframe tbody tr th:only-of-type {\n",
              "        vertical-align: middle;\n",
              "    }\n",
              "\n",
              "    .dataframe tbody tr th {\n",
              "        vertical-align: top;\n",
              "    }\n",
              "\n",
              "    .dataframe thead th {\n",
              "        text-align: right;\n",
              "    }\n",
              "</style>\n",
              "<table border=\"1\" class=\"dataframe\">\n",
              "  <thead>\n",
              "    <tr style=\"text-align: right;\">\n",
              "      <th></th>\n",
              "      <th>Title</th>\n",
              "      <th>labels</th>\n",
              "      <th>Post Text</th>\n",
              "      <th>texts</th>\n",
              "    </tr>\n",
              "  </thead>\n",
              "  <tbody>\n",
              "    <tr>\n",
              "      <th>1</th>\n",
              "      <td>Can’t fix this typo</td>\n",
              "      <td>HTML</td>\n",
              "      <td>Hi all, I just have a quick question. Just loo...</td>\n",
              "      <td>[Hey, and welcome to the forums! I think it mi...</td>\n",
              "    </tr>\n",
              "    <tr>\n",
              "      <th>2</th>\n",
              "      <td>Jamming project next steps</td>\n",
              "      <td>JavaScript</td>\n",
              "      <td>Hi, this is my version of Jamming project: htt...</td>\n",
              "      <td>[]</td>\n",
              "    </tr>\n",
              "    <tr>\n",
              "      <th>3</th>\n",
              "      <td>Importing a Method From a Specific Class In a ...</td>\n",
              "      <td>Python</td>\n",
              "      <td>Sometimes l want to import methods from differ...</td>\n",
              "      <td>[You need to carefully check what you’re impor...</td>\n",
              "    </tr>\n",
              "    <tr>\n",
              "      <th>4</th>\n",
              "      <td>Introduction To Machine Learning in R: Predict...</td>\n",
              "      <td>R category</td>\n",
              "      <td>Hey all, Getting to the end of the course on R...</td>\n",
              "      <td>[I just finished with this activity and ran in...</td>\n",
              "    </tr>\n",
              "    <tr>\n",
              "      <th>5</th>\n",
              "      <td>Meal Maker project - Cannot read property ‘len...</td>\n",
              "      <td>JavaScript</td>\n",
              "      <td>const menu = { _courses: { appetizers: [], mai...</td>\n",
              "      <td>[Veery small typo: the property in _courses is...</td>\n",
              "    </tr>\n",
              "  </tbody>\n",
              "</table>\n",
              "</div>"
            ],
            "text/plain": [
              "                                               Title  ...                                              texts\n",
              "1                                Can’t fix this typo  ...  [Hey, and welcome to the forums! I think it mi...\n",
              "2                         Jamming project next steps  ...                                                 []\n",
              "3  Importing a Method From a Specific Class In a ...  ...  [You need to carefully check what you’re impor...\n",
              "4  Introduction To Machine Learning in R: Predict...  ...  [I just finished with this activity and ran in...\n",
              "5  Meal Maker project - Cannot read property ‘len...  ...  [Veery small typo: the property in _courses is...\n",
              "\n",
              "[5 rows x 4 columns]"
            ]
          },
          "metadata": {
            "tags": []
          },
          "execution_count": 90
        }
      ]
    },
    {
      "cell_type": "code",
      "metadata": {
        "id": "yn4PT0Jp1wtu"
      },
      "source": [
        "DF1.texts = DF1.texts.apply(lambda y: np.nan if len(y)==0 else y)"
      ],
      "execution_count": null,
      "outputs": []
    },
    {
      "cell_type": "code",
      "metadata": {
        "id": "agrXroNnq13u",
        "colab": {
          "base_uri": "https://localhost:8080/"
        },
        "outputId": "552fa3ef-b724-4d30-e1f2-5ca7df0f1ef6"
      },
      "source": [
        "DF1.labels.unique()"
      ],
      "execution_count": null,
      "outputs": [
        {
          "output_type": "execute_result",
          "data": {
            "text/plain": [
              "array(['HTML', 'JavaScript', 'Python', 'R category', 'React.js',\n",
              "       'Get Help', 'SQL', 'General Programming', 'Java', 'jQuery', 'CSS',\n",
              "       'Node.js', 'C++', 'Codecademy', 'Git', 'Express.js'], dtype=object)"
            ]
          },
          "metadata": {
            "tags": []
          },
          "execution_count": 92
        }
      ]
    },
    {
      "cell_type": "markdown",
      "metadata": {
        "id": "RJEl5p_wxIHu"
      },
      "source": [
        "DONE WITH EDA"
      ]
    },
    {
      "cell_type": "markdown",
      "metadata": {
        "id": "xtPPGSmGxO2v"
      },
      "source": [
        "MODEL NOW"
      ]
    },
    {
      "cell_type": "code",
      "metadata": {
        "id": "ePJAn5pjrS0Z"
      },
      "source": [
        "from sklearn.naive_bayes import MultinomialNB\n",
        "from sklearn.pipeline import Pipeline\n",
        "from sklearn.feature_extraction.text import TfidfTransformer\n",
        "from sklearn.linear_model import LogisticRegression\n",
        "from sklearn.metrics import classification_report\n",
        "import logging\n",
        "import pandas as pd\n",
        "import numpy as np\n",
        "from numpy import random\n",
        "import gensim\n",
        "import nltk\n",
        "from sklearn.model_selection import train_test_split\n",
        "from sklearn.feature_extraction.text import CountVectorizer, TfidfVectorizer\n",
        "from sklearn.metrics import accuracy_score, confusion_matrix\n",
        "import matplotlib.pyplot as plt\n",
        "from nltk.corpus import stopwords\n",
        "import re\n",
        "from bs4 import BeautifulSoup\n",
        "%matplotlib inline\n",
        "\n",
        "X = DF1.texts\n",
        "y = DF1.labels\n",
        "X_train, X_test, y_train, y_test = train_test_split(X, y, test_size=0.10, random_state = 42)"
      ],
      "execution_count": null,
      "outputs": []
    },
    {
      "cell_type": "code",
      "metadata": {
        "id": "e07YbmZ0x51e",
        "colab": {
          "base_uri": "https://localhost:8080/"
        },
        "outputId": "737e30e8-2ac9-43fe-a02f-a6b6e28af3b4"
      },
      "source": [
        "curr = X_train\n",
        "X_train = []\n",
        "for c in curr:\n",
        "  print(c)\n",
        "\n",
        "print(X_train)"
      ],
      "execution_count": null,
      "outputs": [
        {
          "output_type": "stream",
          "text": [
            "['Hi @codejumper03379 what does your topicSlice look like? You dispatch objects as payload. I’m not sure if a shorthand works here. But seeing what the topic state and reducer that receive the payload would be relevant here.']\n",
            "nan\n",
            "['Solved by tgrtim in post #4 You have two different but similarly named attributes num_of_children and new_num_children. What does your estimated cost function make use of?']\n",
            "nan\n",
            "['https://www.codecademy.com/paths/data-science/tracks/dscp-python-fundamentals/modules/dscp-python-strings/projects/ds-python-strings-project 34 Here is the link']\n",
            "['Hey, and welcome to the forums! I think it might also be helpful if you could attach a screenshot of the code you’re trying to fix? :))']\n",
            "['if you change the gpa on line 6 to a lower score: gpa = 1.5 The condition still evaluates to true, showing you that you have the requirements to graduate, even though you don’t. you have a problem with your right conditional statement']\n",
            "['El error que te da es éste: AttributeError: module ‘string’ has no attribute ‘whitespace’ Pusiste un import string en tu programa? Sino, no va a funcionar.']\n",
            "['Solved by foxinho in post #6 It worked! Thanks again!']\n",
            "['one of the things we could do is something along the lines of: let menu = {   _courses: {     appetizers: [],     mains: [],     desserts: [],   },   get appetizers() {     return this._courses.appetizers;   } } now we can do menu.appetizers even though the underlying property (_appetizers) is nested another object deep. and if we implement the setters to push the elements into the array: let menu = {   _courses: {     appetizers: [],     mains: [],     desserts: [],   },   get appetizers() {     return this._courses.appetizers;   },   set appetizers(appIn) {     this._courses.appetizers.push(appIn);   }, } we can shorten certain tasks: // old return this._courses[courseName].push(dish) // using the setter: return this[courseName] = dish']\n",
            "['Do you mean run two independent functions at the same time? What are you trying to do? Like this? https://stackoverflow.com/questions/18864859/python-executing-multiple-functions-simultaneously 2']\n",
            "[\"Solved by adamgaffney96 in post #2 Your problem is actually quite a simple one. Your entire code is perfect apart from one little snag! In getRandomDishFromCourse() if you do some console.log 's then you’ll find that your randomIndex is outputting NaN. The reason is that you’ve written Math.random, when it should be Math.random() as r…\"]\n",
            "['When you say uneven what do you mean? Are they not equally spaced out like the other columns, or are they spaced differently to the other columns, or something else?']\n",
            "['Hello, @micro1086421766. Welcome to the forum. micro1086421766: class HospitalEmployee {   constructor(name) {     this._name = name;     this._remainingVacationDays = 20;   } Your constructor only takes one parameter, name. Adding a second argument when you instantiate a new doctor object does nothing. The first argument becomes the value of the name parameter, and anything after that argument is ignored. You could modify your constructor to take a vacation days parameter, and then assign that value instead of the arbitrary number 20.']\n",
            "['Solved. const determineWinner= (userChoice, computerChoice) => { if (userChoice === computerChoice){ return ‘tie’ } else if (userChoice === ‘rock’ && computerChoice === ‘paper’){ return ‘You lost.’ } else if (userChoice === ‘paper’ && computerChoice === ‘scissor’){ return ‘You lost.’ } else if (userChoice === ‘scissor’ && computerChoice === ‘rock’){ return ‘You lost.’ } else { console.log(‘You Win!’); } }']\n",
            "['Solved by nothead in post #4 I see. Most websites have their navbars at the top, explore pretty much any website, even codecademy, and you’ll see this. He put his navbar along the left. What you are looking for isn’t Javascript at all, you are trying to build a normal navbar with links.']\n",
            "['I would write it out in paper to make sure your logic uses the least amount of statements possible to satisfy all demands. Also remember you can use >= and you don’t need an extra else if your logic is tight too. Try running your logic out on paper and see how many steps it takes, if you finish all the possibilities on paper and you still have code left over, trim it. The more interesting thing is how do we tackle this if the list is longer (like 1,000 numbers). I think if you figure out that idea you will get more out of this exercise. (The thought exercise is great even if you don’t have the command of the code to implement it yet, because once you do, you already figured out the concept, and it’s just a matter of syntax).']\n",
            "['The third line is trying to print everything that txt equals. This includes another console.log(). Console.log can’t resolve that to a string, so it gives ‘undefined’. Console.log() has some interesting behaviours from time to time. The MDN has more on the subject. console.log 1']\n",
            "['Hello! This is the code I used to accomplish that, though you may need to change the width percentage (under nav li) to fit your screen. html, body {   margin: 0;   padding: 0; }  header {   background-color: #333;   position: fixed;   width: 100%;   z-index: 5; }  nav {   margin: 0 auto;   padding: 20px 0; }  nav li {   color: #FFF;   cursor: pointer;   display: inline-block;   font-family: \\'Raleway\\', sans-serif;   font-weight: 600;   font-size: 16px;   width: 22%;   text-align: center; }  main {   position: relative;   text-align: center;   top: 80px; }  main h1 {   color: #333;   font-family: \\'Raleway\\', sans-serif;   font-weight: 600;   font-size: 70px;   margin-top: 0px;   padding-top: 80px;   margin-bottom: 80px;   text-transform: uppercase; }  section {   position: relative;   top: 40px; }  footer {   background-color: #333;   color: #FFF;   padding: 30px 0; }  footer p {   font-family: \\'Raleway\\', sans-serif;   text-transform: uppercase;   font-size: 11px; }  .container {   max-width: 940px;   margin: 0 auto;   padding: 0 10px;   text-align: center; }  .jumbotron {   height: 800px;   background-image: url(\"https://content.codecademy.com/projects/broadway/bg.jpg\");   -webkit-background-size: cover;   -moz-background-size: cover;   -o-background-size: cover;   background-size: cover; }  .btn-main {   background-color: #333;   color: #FFF;   font-family: \\'Raleway\\', sans-serif;   font-weight: 600;   font-size: 18px;   letter-spacing: 1.3px;   padding: 16px 40px;   text-decoration: none;   text-transform: uppercase; }  .btn-default {   font-family: \\'Raleway\\', sans-serif;   font-weight: 600;   font-size: 10px;   letter-spacing: 1.3px;   padding: 10px 20px;   text-decoration: none;   text-transform: uppercase;     margin-bottom: 20px;       }  .supporting {   padding-top: 80px;   padding-bottom: 100px; }  .supporting .col {   display: inline-block;   font-family: \\'Raleway\\', sans-serif;   height: 200px;   text-align: center;   width: 200px; }  .supporting img {   height: 32px; }  .supporting h2 {   font-weight: 600;   font-size: 23px;   text-transform: uppercase; }  .supporting p {   font-weight: 400;   font-size: 14px;   line-height: 20px;   padding: 0 20px;   margin-bottom: 20px; }  .supporting a {   background-color: white;   color: #333333;   font-family: \\'Raleway\\', sans-serif;   font-weight: 600;   font-size: 12px;   letter-spacing: 1.3px;   text-decoration: none;   text-transform: uppercase;   padding: 10px;   margin-bottom: 10px;   border: 2px solid #333333;  }  @media (max-width: 500px) {   main h1 {     font-size: 50px;     padding: 0 40px;   }    .supporting .col {     width: 100%;   } }']\n",
            "nan\n",
            "['let counter = 0; for (counter; counter < 10, counter = counter + 1){   console.log(counter); }  // output 0 1 2 3 4 5 6 7 8 9 A for loop is made of 3 parts: 1 - first you pick the variable that will be use to count each iteration of the loop. In the example, we use counter, which we had defined as being equal to 0. 2 - Second you pick a condition for the loop to stop: otherwise it would be infinite. In the example, we have counter < 10 which means once counter is 10 or higher, the loop will stop. Why 10 stops it? Because 10 < 10 is false! 10 is not smaller than 10, it’s equal to it. 3 - Third and last part, how to modify the counter after each loop iteration. Once the code inside the loop is run, this part will execute. In the example, we make counter = counter + 1, so we are increment the value of our counter by 1. Without this, we would never reach the stop condition of the second part of the loop definition. You might say: I usually see this! for (let i = 0; i < 10; i++) If you pay attention, you’ll realize it’s all the same, just in a more compact form. First part declares the variable that will start counting and it’s starting value (in this case i starting at zero), second part states the stopping logic (keep going as long as i is smaller than 10), and the third part updates the counter value after each iteration (i++ is the short version of doing i = i + 1 ) Another note: all of the three pieces that make up the for loop definition are up to you! For example: let listOfNumbers = [1,2,3,4,5,6,7]; for (let i = 0; i < listOfNumbers.length; i = i +2){   console.log(listOfNumbers[i]; }  // output 1 3 5 6 Here I decided to start my counter at zero, but then I used the .length of the array of numbers to decide where to stop my loop. Since the array has 7 elements, listOfNumbers.length equals 7, and that second statement can be understood as i < 7. The third part increases my counter by 2 every loop. That’s why the output skips every other number. It can help to write it down step by step: 1st iteration: i = 0 check condition: 0 < 7 ? yes, so run the code inside the loop console.log(listOfNumbers[0]; loop if finished, run i = i + 2;  2nd iteration: i = 2 check condition: 2 < 7 ? yes, so run the code inside the loop console.log(listOfNumbers[2]; loop if finished, run i = i + 2;  3rd iteration: i = 4 check condition: 4 < 7 ? yes, so run the code inside the loop console.log(listOfNumbers[4]; loop if finished, run i = i + 2;  4th iteration: i = 6 check condition: 6 < 7 ? yes, so run the code inside the loop console.log(listOfNumbers[6]; loop if finished, run i = i + 2;  5th iteration: i = 8 check condition: 8 < 7 ? No, exit the loop without running code']\n",
            "['The method of copying google fonts is shown in the earlier lesson in the typography section. here You simply go to the google fonts page (the link is in the project) and then search for the font you want. When you select it, it will give you a set of links on the right of the page which you simply copy and paste into your html page. Then you should have access to the fonts.']\n",
            "['Take on small challenges off-platform. Create small projects where you can apply your skills. Collaborate with fellow learners. However, in this early phase I suggest just focusing on learning. (Maybe I’m just slow), but it took me about 3 months before I could start applying my Python skills to other things besides the challenge projects and lessons.']\n",
            "['Hello! I am working through the front end career path and am at 30%. learning the JS is probably faster for me-- I approximate that it takes me about 30s-1 min to really understand new syntax (like let vs var vs const or the arrow inline function declaration syntax) and 2 min for algorithmic concepts like Array,prototype.reduce(), any of the lodash method implementations or other algorithms. However, I have been programming in java and c++ and python for some time! If js is your first programming language, then the concepts are completely new to you and far less intuitive than someone who knows a few more languages already. The position you find yourself in right now is one where you are learning more rapidly than any seasoned programmer. Your learning curve is logistic growth and your intuition and completion time for coding tasks is the inverse of your learning curve. Don’t worry. JS is your template for learning all coding languages in the abstract! Also, know that vanilla javascript is much harder to use than javascript with a library like jquery. Tips: Just One. Indisputably: The Best Way To Become A Better Programmer is to program…(on a team or by yourself locally with no scaffolding provided by an integrated learning environment (such as codecademy) ) If you were to create a project on your computer within an IDE like VS code and you created a html file a css file and a js file and you linked them all to your html file, and you completed a super simple interactive web page, then you will have learned by doing–the best way to learn. And you will have integrated all of your languages and also implemented a major application of Separation of Concerns, Debugged probably using devtools, familiarized yourself more with html css and javascript, synthesized all three languages into DOM nodes like a style.color:Maroon.addEventListener(“click”, callbackFn) – a maroon button that executes a function on clicking (you can see this is a compound element that is part css part html part javascript) ; most importantly, you will have worked on what is ultimately one of many attempts at what you will be producing professionally as a web developer. These web page attempts will mature in sophistication and value to a company and they are your opportunity to implement the otherwise abstract things you learn in codecademy.']\n",
            "['Solved by stetim94 in post #2 but if the exception occurs, the variable can’t be named/assigned. If you remove the try/except your program will crash with an error. patient1 has valid data, then everything is fine. But then you added another patient (patient2), which has invalid data. Which is why we needed the exception hand…']\n",
            "['@ data6260682876 If u don’t use selectors wer do u apply the code.']\n",
            "['Solved by mtf in post #2 The above line is nested inside two loops, hence the repetition.']\n",
            "['Anconda should be fine for this purpose. I wouldn’t worry about using it here, if anything it may be easier than sorting it yourself via pip. I think there is an error here in that plt.show should be plt.show(). Edit: plt.show() is designed to prevent the script continuing (it blocks further execution) matplotlib.pyplot.show — Matplotlib 3.4.2 documentation in the normal “non-interactive mode”. How are you running this code at the minute? By and large matplotlib is designed to run in an interactive session; when the python script finishes exectuion all active matplotlib windows could be closed again without your input. This would appear like the script ran successfully (no errors) but you don’t see any plots, or they flash up very quickly and disappear. Edit: Being lazy with links the first time around; I should probably mention that an interactive shell is generally suggested for working with matploblib but matplotlib’s interactive mode is not the same thing. It’s very likely you’ll want to work in an interactive shell when starting out (unless you’re doing some form of batch processing or periodic figure creation there’s few reasons not to), you might want to work in interactive mode. Try running with python -i (interactive inspection after running script) just to double check the graph appears. This is just a quick test rather than an ideal way of working. If it is not working then you may need to change the backend (some of these require additional downloads from pip or anaconda) https://matplotlib.org/stable/tutorials/introductory/usage.html#backends 1 Long term you may prefer working with an interactive kernel like IPython instead of the standard python interactive interpreter. If you’re doing this a lot then you may also prefer changing to use Jupyter’s interactive IDE or something similar which is almost always a much nicer way of working like this. Have a wee web search for it or check some of cc’s articles: https://www.codecademy.com/articles/how-to-use-jupyter-notebooks-py3 https://www.codecademy.com/articles/getting-started-with-jupyter https://www.codecademy.com/articles/getting-more-out-of-jupyter-notebook']\n",
            "nan\n",
            "['I believe that correctly linking the CSS file (and any other broken links) is part of the debugging challenge. A lot of the styling is done but the layout is all out of whack. So it’s fix AND make responsive, really. I think the broken links were thrown in as a random bonus task to make it feel like a truly broken page. In retrospect it might’ve actually been easier to rewrite the entire CSS file but I’d already invested too much time.']\n",
            "['return point_total is inside your loop. When a return keyword is reached, the value is hand back to the caller/function call, which signals that the function is done executing. So the remaining loop iterations are not executed']\n",
            "['It depends what your past knowledge is.']\n",
            "['lfs2018: What would be a real world example for using this method. Explanation of javascript’s reduce() with a real world use case 1.8k As we see, this method is not just for numeric computation. This will seem a silly way to compute factorial… [1,2,3,4,5,6,7].reduce((a, b) => a * b)    // 5040 but it is short and sweet. And this would seem a strange way to join strings… array = [\\'A\\', \\'quick\\', \\'brown\\', \\'fox\\', \\'jumps\\', \\'over\\', \\'the\\', \\'lazy\\', \\'dog\\']; array.reduce((a, b) => a + \\' \\' + b) // \"A quick brown fox jumps over the lazy dog\" Neither is very real world when compared with the example given in the article. Perhaps in your reading you will find some other examples. Please do share!']\n",
            "['Hi there! Simple answer is, switch statements don’t do that. They can’t handle any complicated conditionals like that. They can only check x===y things. If you want compounded conditionals like that, you need to use if statements.']\n",
            "['Solved by mirja_t in post #10 So could you fix your problem now? From second a look at your screenshot it seems you haven’t linked your stylesheet to the html (bullet 3).']\n",
            "['Hello! What error are you receiving, and can you please format your code according to this guide 1?']\n",
            "['Objects/classes in JS are a way by which the programmer can create their own types (like strings, etc). Every variable and function in JS is an object as well, since everything has a type (string, integer, function-yes that’s a type of data, etc). Another way to look at it is that Object is the most basic data type in JS, on which everything else is built.']\n",
            "['Hey there and welcome to the forums! Could you post what code you have right now? That would help to see were your at. Essentially you just think of printing one line or letters at a time and these stack together to create an image. as an example lets say you wanted to print a smiley face and you draw it out like this:    a    a    a    a a          a   aa    aa      aaaa Pardon my poor drawing Now you print this one line at time: print(\"   a    a   \") print(\"   a    a   \") print(\"a          a\") print(\"  aa    aa  \") print(\"    aaaa    \")']\n",
            "nan\n",
            "['this error is very often caused by the fact that you attempt to use a key/property which does not exists on the object, so the first debugging step would be to log the available keys and the key you attempt to use: addDishtoCourse (courseName, dishName, dishPrice) { const dish = {   name: dishName,   price: dishPrice } console.log(Object.keys(this.courses), courseName); return this.courses[courseName].push(dish) }, which doesn’t seem to be the problem in your case. Then the next suspect would the getters and setters, which is when I noticed this: get mains(){   return this._appetizers = appetizersIn; }, your getter for mains look off. You are setting appetizers within mains getter? Finally, your getters are problems, starting with your courses getter: get courses() {   return {      appetizers: this._courses.appetizers,      mains: this._courses.mains,      desserts: this._courses.desserts, }; }, the _courses object does not have appetizers property (same for mains and desserts) I think you are pretty close, except you made your appetizers (mains and desserts) getters part of the menu object, while they should be part of the _courses object.']\n",
            "['When you’re at the assigning step, try to add some sort of test confirming that you’ve assigned it properly (in the function). If things are assigned properly the bug is after that, if they’re not you work from there backwards. The other thing to consider is that your array is a list of linked lists. The question is, does one traverse linked lists the same as one traverses arrays (python “lists”)? (I know there’s an __iter__ method but it still bears thinking about).']\n",
            "['dtsyi: if gamer.get(\"name\") and gamer.get(\"availability\"): when checking for dictionary keys you’d want to do: key in mydict an example of where your code is arguably wrong is if availability is [] which is falsy, but it does exist. Might not matter to your application because if there’s no availability that’s as good as not existing. dtsyi: What if there are multiple contenders for best day game night? Which day will the system choose or it will be randomised? Arbitrary and random are different things, arbitrary would mean that you shouldn’t rely on which it is and accept any, but nobody rolled dice for it, so it’s not random. You may have done something else to affect order or you may get the same order anyway simply because nobody is rolling dice. If you care, make it the way you care for it to be. 2) Yeah instead of sending a mail you might take note of which days you’d want to send mails for, and then when that’s done you’d send one mail to each person which mentions all days. You wouldn’t need three lists for it, but you might want a list for each one associated with their name (a dictionary) {\\'bob\\': [], \\'lisa\\': [1], \\'giggles\\': [3,4]} …I suppose that’s the same thing. I think it’s better to group things together though, instead of having multiple data structures representing one thing.']\n",
            "['Hi, can you please format your code? [How to] Format code in posts Getting Started To format code so it’s visible, either wrap it in single backticks (``` ``) for a small amount of code, or triple backticks on an otherwise blank line before and after for a large amount of code.']\n",
            "['Hi, I will try to help with what I can here. First: chip8144226952: the const object that = the parameter object, So that would be this: const { name, value } = target; That’s called destructuring assignment, a fancy name to say that you, at the same time, extract a value and assign it to a variable/const. Please do take a minute to read (and practice a bit with) this and particularly this part. Next: chip8144226952: the …prev I still haven’t reached to hooks, but I assume they may be similar to setState (which I have already learned). Please anyone correct me if this is wrong. I am trying to help but I am still a learner here. If this is a similar case, then, I can comment that there are two possible ways to use the setState functions to update the state without mutating it. The most popular way of passing an object would be: setState({ // the updates key(s) and value(s) go(es) here }) Then, there is still another way, which is passing a function instead of an object as parameter, and using the previous state as an arg for that function: setState(prevStateHere => {     ...prev, // -> this is the previous state spreaded, see below     // the updates key(s) and value(s) go(es) here (this could be helpful, among other cases,     // when you need to update state relative to any previous state value.) } See a better explanation about this here. About the specific ...prev part. That’s called spread syntax, and it does exactly what the name suggests: takes an object, array, etc. and spreads it where you use the operator. You can find a really nice explanation with examples and all here. Next: chip8144226952: the array [name] key Oh, that’s no big deal. Simple as this: if you want to pass a string as an object key or value, then you just type it and then go like: const myClothes = {     winter: \"coat\" }  // Now I\\'ll access the key, like this: console.log(myClothes.winter); But how about if instead, I don’t know the key, I just know it’s stored in a variable? That’s when bracket notation (please read this, it will help and it has better examples) comes to the rescue. Let’s say that I don’t know what’s the season, because the user will enter that info in my app/website: const myClothes = {     summer: \"t-shirt\",     winter: \"coat\",     ... }  // And now the user entered \"summer\". How would I make sure that // the user gets a suggestion for clothing? How can I foresee it?   // With a variable that is assigned the value entered: const season = \\'summer\\'; console.log(myClothes[season]); // prints \"t-shirt\" // However, if I would say: console.log(myClothes.season) // there is no \"season\" key in the myClothes object, so it will complain with an error. :) I almost forgot ‘The parameter with curly brackets’. That I think is also object destructuring, right? Like I said above, you passed an object assigned as const target. Hope that makes sense by the time you reach here in your reading. After reading this comment and those links, tell me if something is still not clear and I’ll try to help. Keep up. You got this! It’s way more about hard-headed persistence than about understanding everything at first.']\n",
            "['Hello @arc7697720166, welcome to the forums! What exactly isn’t working here? Can you post any error messages you get or unexpected outcomes, please?']\n",
            "['Hi @lindajoyfulcoder, I found my repos weren’t automatically deploying so to deploy each repo I had to go to that repo in github, click settings, then pages, then add that repo to the main branch (repeating the steps I did to deploy .github.io). After that the specific repo was deployed. Did I write this clearly?']\n",
            "['Hey there! If you share a link for the project I can give it a look. Generally, I can view a code solution either in the hints or after a bunch of wrong attempts. In this last case, check out the image below to have an idea of where the view solution button appears:']\n",
            "nan\n",
            "['“What are the numbers for all 4 teams?” What exactly is this asking? And given the explanation how do we code it? Thanks.']\n",
            "['we could simple use the bang operator at both conditions: console.log( !false && !false ); or we can use the order of operations to our advantage: console.log( !(false && false) ); parentheses are evaluated first, so the order is: parentheses -> and operator -> bang operator']\n",
            "['Edit: What library or function are you trying to import? You can view the built-in modules at the following- docs.python.org The Python Standard Library — Python 3.9.1 documentation 10 Are you looking for time.sleep 4 instead? *Original (where I assumed you were trying to use a 3rd party package): I think the first issue is that’s not a known package for pip, Search results · PyPI 7 hence the warning about versions:none. Make sure you know exactly what package you’re after first, assuming it’s part of the standard package index. Does python -m pip -V point to the same pip? If not then you really want to fix up your path. Work out what you want to do with anaconda. Does it need to be installed? If you want to keep it but it’s interfering with your current python distribution consider removing it from your PATH ( a web search will help you with this). Getting comfortable with your shell and environment variables is very helpful when working with multiple python versions and avoiding messing with system Python (even if you use neat tools like pyenv). I’d highly suggest learning how to work with virtual environments which cut down on issues like this (it sounds fancy but it’s fairly straightforward). Have a web search if you need to get your head around the idea or check the links below- realpython.com Python Virtual Environments: A Primer – Real Python 1 This article details how to use a Python virtual environment to manage your Python projects. docs.python.org 12. Virtual Environments and Packages — Python 3.9.1 documentation 1']\n",
            "['We don’t give out answers for school courses or tests on the forums. We also for the most part answer questions about Codecademy content here. If you have some code to post along with what you’ve tried, error messages, and what’s got you stuck, post here. Also, please read: [Learn more] Welcome to the Codecademy Community Forums! Getting Started Hi there, We’re delighted to have you join us in the Codecademy Community Forums. To get started learning how our community works, please complete the following quick, easy steps to get used to our community home. We believe a little preparation goes a long way! Step 1. Log in, take the plunge! Many of you are new to Codecademy as a whole, many are just new to the forums. In either case, the first step is the same: click on the “log in” button. [image] If you’re not already logged in to C… And, https://discuss.codecademy.com/guidelines']\n",
            "['dburns1524: daily_transactions_split.append(transaction.split(\"+\") always check the line before a syntax error, often there’s a missing parenthesis']\n",
            "['jon_morris: not entirely sure what write permission is, In JS write permission is universal. We have protected variables by proxy, not by de facto.']\n",
            "['Your indentation is correct. Line 123 in the video appears to be out-dented in a strange position, but that is just an artifact of the editor which had to make an adjustment at the time that the line became too long for the available space. You can see this occurring in the video at approximately 6:25.']\n",
            "['I just finished with this activity and ran into the same problem. My education_years had a non-significant p-value ( 0.281) and a negative coefficient ( -41.178), which was wrong according to the hint under #19. (Do education_years , age , and gender all have a significant impact on labor_income ?** All variables are highly significant, with a p-value < 0.01 .). The negative coefficient also seemed counterintuitive and wrong. Not sure if it was something I did or if the activity was set up incorrectly. Would appreciate it if anyone could clarify for us!']\n",
            "['What do you mean, exactly? The p tag in your code is indented.']\n",
            "[\"The range is the range of the length of the list new_prices. For example: new_prices = [1, 2, 3] #The range of this is 0-2 (using python indexing). The length is still 3. Therefore, the for…of loops and the if block are both iterating through the individual elements of the list, until the index of the list reaches the end of the list. For example: list1 = [1, 2, 3] for i in range(len(list1)): print i #this will print i, which is each individual element in the list 'list1', until the loop gets to the last index of the list. Then in the if block, the code checks to see if the element at the index i of the new_prices list is less than thirty. If my explanation does not make sense, please ask, and I will try to clarify it as best as I can!\"]\n",
            "['Welcome to the forums. Please post your code so we can see what you’ve already written. What works, what doesn’t?']\n",
            "[\"superpythoncoder12: print(add_and_mult(1, 2, 3))) >>> def add(a, b):  return a + b  >>> def mul(a, b):  return a * b  >>> mul(3, add(4, 5)) 27 >>> add(3, mul(4, 5)) 23 >>> mul(2, mul(3, mul(4, mul(5, mul(6, 7))))) 5040 >>> add(mul('Ho, ', 3), 'Green Giant!') 'Ho, Ho, Ho, Green Giant!' >>>  Two simple, portable functions that can be combined. This brings us to exception handling. We can see that the plus sign is also the concatenation operator and that the times sign is also the repeat operator. That means there are multiple valid input types. What are the actual exceptions that could be raised? Can we filter them so exception handling is not necessary? The most sensible approach is to validate before passing arguments to a function, but that doesn’t really insulate the function, itself. However if we encapsulate a function we can make it inaccessible to outside calls. Obviously, this takes us down another rabbit hole.\"]\n",
            "['Hi, can you link to the problem you’re talking about?']\n",
            "['When you write public String someFunc(){}, that function needs to return a String. If it doesn’t, an error will be thrown. jackcosti3234952202: public String performTask(String task) { System.out.println(name + \" is performing task: \" + task); batteryLevel = batteryLevel - 10; }']\n",
            "nan\n",
            "['Solved by lisalisaj in post #2 Double check your indentation in your second for loop, here: It’s useful to use print() statements too and also write out what you think the code is doing at each step. Also, some more discussion on this can be found here: https://discuss.codecademy.com/search?q=thread%20shed%20step%208']\n",
            "['Perhaps you should have a good read of the community guidelines and How to ask good questions (and get good answers) 1. At the moment this reads like you’re asking someone to write your homework for you which is not how this community operates.']\n",
            "['Hello @eugenegovender, welcome to the forums! Notice how you’ve closed the first if block without putting any code in it? if(input[inputText] === vowel[vowels]){      }     ^ This closes the \"if\" block']\n",
            "['I also need some help here. I’m in the same spot: I am 42% complete with Python 3. I’m at the “install python” step. I installed python and then Miniconda/Anaconda3 (latter, then the former). I have two problems - they may be interrelated: My cmd prompt will not recognize “pip” as a command, and Probably more importantly (or so it currently appears), my master user profile on my computer is named P&M&M&D. It seems like that is normally not a problem, but when you try to use Anaconda, it is a problem. The CMD.exe Prompt will not load from the navigator and it seems to stumble in the CMD prompt (when opened directly) due to the \"&\"s in my userid. Do you know the best way to fix this? Thanks!!']\n",
            "['could you give us the errors in the terminal? Also include what you have in your .js file. If I remember correctly, the test/lodash.js tests to see if you created the _ object. To create an empty object called “_”, in the .js file put in: const _ = { };']\n",
            "['My solution is different from that you linked to, though the principles are the same. For the bleep_it function, you can create a string of asterisks that matches the size of the word you want to bleep. That means getting the size of whatever word is sent, then creating your bleep word to match. Notice the solution you linked to did that. Also notice that step 3 guides you to pass by reference so you can dynamically change the bleep word. Then use text.find() and text.replace() to put your bleep into the bad word. There once was a U.S. President who hated ********. It was nothing personal, but even his mother couldn’t get him to eat ******** as he was growing up. He liked baked beans, though. Still he wouldn’t eat ******** even if he could have baked beans too. I like ******** as long as it has enough basalmic vinegar on it. Then ******** tastes okay. The former President, though – he still doesn’t like ********.']\n",
            "['Hi! Are you familiar with how to read regular expressions (regex)? It’s too much to explain them in detail but they are used for pattern matching. It may seem daunting at first but once you get the gist of it you can learn to read basic ones fairly well. Here’s a small reference for them: https://www.princeton.edu/~mlovett/reference/Regular-Expressions.pdf 1 If you are not interested in learning about them, then just put them into an online regex translator to see what they do.']\n",
            "['Hello! Could you provide a link to the project you’re working on?']\n",
            "['Solved by tag6936504976 in post #3 Thank you for your answer, you are right!! When reading it, and prior to practicing iterators, the idea was hard for me to grasp. But here’s my way of stating the same thing (for the sake of solidifying it for myself and others) I was hung up on the idea that: [‘cuddlefish’, ‘octpus’].includes(ce…']\n",
            "['huangsheng4863026249: else (regEarly === false || runAge < 18); {    regNumber= raceNumber  } ELSE is the default. For the above we need to include the if keyword. Note the semicolon in your code. That will interrupt the statement and not parse futher. The statement contained in the block will execute no matter what. Lesson here, never use semi-colons in if statements. if (conditionOne) {  } else if (conditionTwo) {  } else {  } The statements inside the blocks may require semi-colons. The above construct has none, ever.']\n",
            "['Hello! It is because the estimated_insurance_cost function has no return. That means when you print the return value: print(patient1.estimated_insurance_cost()) You are printing None, as there is no return value. The reason you still get the John Doe’s estimated insurance costs is 1836.0 dollars. printed is because you still call the function when you print it, which means any print statements inside it get printed.']\n",
            "['Solved by stetim94 in post #4 you could run your cod with python3 -c \"...\"']\n",
            "['foreach is passing the elements to the callback parameter (element), one at a time and in order']\n",
            "['Solved by lisalisaj in post #2 further down in that Lists part of the syllabus you will see the zip function. So, you’d do this… https://docs.python.org/3/library/functions.html#zip']\n",
            "['Hi there. If I use your CSS, the page renders correctly for me. You’ve clicked the Save button on style.css to “commit” the changes and refresh the page, right?']\n",
            "['Solved by toastedpitabread in post #2 You’d need a good reason to use it (considering how common and useful polymorphism is). Semantically, I’ll pick at your example: A class Integer respresents an abstract template for integers (that is, the term class is being used as a concept of \"collection of the type Integer\"). To say that such a…']\n",
            "['The output says: Code is incorrect Make sure you are printing the expected string']\n",
            "['Hi Marios, welcome to the forums! If i remember the Luhn algorithm correctly, you should double every other digit and subtract nine if it became larger than nine. But for the sum all digits matter. But you just add every other digit to the sum variables. You also need to add the sums just once – not in each loop as you currently do. But that is not causing the error since you overwrite sum each time. It’s just redundant. For the following steps the hint from step 3 becomes crucial: Do not mutate the original arrays, you should make a copy instead If you log valid1 after you ran the function it’s not the same anymore.']\n",
            "[\"Hi there, and welcome to the forums! The problem you are having is a slight misunderstanding of how WITH works. The WITH clause creates a temporary table in the database that disappears after the query has been completed. As such, when interacting with it you need to interact as if it’s just another table in the database. When you are executing your second part of the query, it’s looking for temporary_table and being unable to find it as it’s not actually included in that section of the query. Therefore to include it as something that part of the query can find, you need to include it in your FROM clause, like so: WITH temporary_table AS (    SELECT ROUND(AVG(score), 2) AS 'average'    FROM hacker_news ) SELECT title, score FROM hacker_news, temporary_table WHERE hacker_news.score > temporary_table.average; Please note I have also corrected where you put “name” to “title”, just a slight typo! If you use this code, you should find it works sufficiently, and I hope it is clear why!\"]\n",
            "['Hi, I think you’re using Mozilla FF, if I am not wrong. I could reproduce your issue like this: Include the wrong number of cells in one of the areas (for example, four instead of the five you assigned), then save that and manually refresh the browser. Now, dev tools should show the property scratched with an “Invalid property value” warning message. Now, fix that by adding back the right amount of elements inside each area (5 of 5 in your case). For some reason, in Chrome this updates dev tools, but in Mozilla, the dev tools stays like… cached, maybe? with the error. Hiwever, if I manually refreshed this afterwards, dev tools updated without the warning. Would this help in your case? If so, just remember manually refreshing. Otherwise, let me know and let’s find a way.']\n",
            "[\"when you get in the else clause:   } else {     console.log('Error!');     }  you only log an error string, you don’t return anything, so you get undefined.\"]\n",
            "['Hi, Welcome to the Codecademy forums! You’re correct in noticing that both pieces of code work perfectly fine. The JavaScript interpreter does not care how the code is formatted because it ignores most of the white space. The first option is generally used because most people find it easier to read, especially when it comes to scripts that are much longer. Whilst you may find the second option much more readable, it is useful to be able to write code that is formatted in a way that helps other developers to read your code. For personal projects, you can use whatever format you prefer. But when posting code on the forums or when collaborating with others, I would suggest following the standard way of formatting JS to avoid mistakes and confusion. Hope that helps!']\n",
            "['Hello @iliasahmed, welcome to the forums! Do you have a question, or are you just sharing the code for feedback? Please note, we try to discourage sharing of complete code without any explanation or context on these forums.']\n",
            "nan\n",
            "['If I look at this condition in your isClicked:   if(door.src == closedDoorPath) {     return true;   } else {     return false;   } looks to me like: if door is closed/not clicked, you return true. Which doesn’t sit right with me. seems you got your condition or return value the wrong way around']\n",
            "['I am in the same… And I also tried many things: \"Failed to compile. ./src/components/App/App.js Module not found: Can’t resolve ‘./components/BusinessList/BusinessList’ in ‘C:\\\\Users\\\\User\\\\teste3\\\\ravenous\\\\src\\\\components\\\\App’ \"']\n",
            "['You need to carefully check what you’re importing. There is a built-in module called datetime, within this module there is class also called datetime which has a method named now- https://docs.python.org/3/library/datetime.html#datetime-objects So far as I’m aware you can’t directly import functions bound to a class with just import statements (even when using the from form of import syntax). You can only import module level names/definitions (so module level constants, functions or classes for the most part). So you’re restricted to importing the module, import datetime and making use of the newly bound name to access its namespace, e.g. datetime.datetime.now(). Or, alternatively, you can import the relevant class definition from this module, from datetime import datetime which imports the whole module but only binds the datetime.datetime class in your current namespace with the name datetime such that you could use datetime.now(). However, there is nothing stopping you from binding a new name to datetime.datetime.now once it has been imported, e.g. newname = datetime.dateimte.now, but be careful about hampering readability if you do this. If you want more details about import you can see the docs- https://docs.python.org/3/tutorial/modules.html 1 Or for a much deeper (but more complex) background see- https://docs.python.org/3/reference/import.html']\n",
            "['Solved by tgrtim in post #2 Learning and re-learning is the name of the game. You’ll always forget something, everyone does. If you learnt it once the next time will likely be faster. Treat it more like any regular language where repetition and active usage are necessary to cement certain things in your mind; @toastedpitabread …']\n",
            "['I think the error message is slightly off, your condition looks fine, but the string you print doesn’t. you wrote nember instead of numbers']\n",
            "['Can you share your work?']\n",
            "[\"Hi Adam, I can’t read all of your question. Parts of your text (code) has been swallowed due to a lack of formatting. What I see from your screenshots is that you’re using functional components and no Redux, right? Then this is the way: Parent component Declare a state and a setter for the title or slug Define a function to update the state Pass that function down as props to the child component const [currentPage, setCurrentPage] = useState(''); const updatePage = title => {    setCurrentPage(title) } return (<div>   //... some parent component code   <ChildComponent updatePage={updatePage} /> </div>) Child Component Define a button etc. with an onClick event Define a function that handles the click and calls the function passed as props from the parent component export const ChildComponent = ({updatePage}) => {   const title = 'Current Article Title';   const handleClick = () => {     updatePage(title)   }   return (<div>     //... some child component code     <button onClick={handleClick} >{title}</button>   </div>) }\"]\n",
            "['Solved by realelfruler in post #3 Figured it out! My declaration of display_status() looked a little something like this: void display_status(std::string incorrect, std::string answer) { And it should have looked like this (because in ufo.cpp, incorrect was declared as a char vector, not a string): void display_status(std::vecto…']\n",
            "['Solved by vic-st in post #2 Hey @jgokop! I think this may be the topic you’re looking for. Apparently, a new version of google font has added something onto the URL which makes the lesson fail.']\n",
            "['Solved by adamgaffney96 in post #3 Hi and welcome to the forums! If you’re just looking for a completely static website to be published (that is, purely HTML, CSS and JS) then Github Pages is definitely the best way to go. It’s really easy, and completely free to host your website there. Following that link will give you the steps b…']\n",
            "nan\n",
            "['In response part it should be: res.send({ quotes: quotes }); or in first case: res.send({ quotes: newArray });']\n",
            "[\"const fruits = ['mango', 'papaya', 'pineapple', 'apple'];  // Iterate over fruits below fruits.forEach( fruit => {   let indefiniteArticle = '';   if (fruit[0] === 'a' || fruit[0] === 'e' || fruit[0] === 'i' || fruit[0] === 'o' || fruit[0] === 'u') {     indefiniteArticle = 'an';   }    //else if (fruit[0] === 'h'&& fruit[1] ===) { }   else {     indefiniteArticle = 'a';   }   console.log(`I want to eat ${indefiniteArticle} ${fruit}`); });  /* Added indefinate article conditions.  For future senerio, implment conditions with words starting with an H. Also obeying DRY, create an array of vowels to loop through to avoid rewriting each vowels condition on the H comparison. */ bissekelejnr: Why is the return value for .forEach() always undefined? I included Indefinate Article conditions to make an apple grammatically correct.\"]\n",
            "['To summarize it: no, it doesn’t really matter, it’s the same if you use \\'\\' or \"\". The thing is the tests made to check your input sometimes don’t cover every single case, and sometimes you just have to nail what the test expected. Anyway, if you have it wrong just for that reason, it is honestly equivalent to having it right, so don’t feel like you were wrong for that. EDIT: Sorry, just wanted to add it’s better if you do all the module imports at the top of the file, I think.']\n",
            "['I concur that the font does not seem to be loading from the local folder., though it is present. I just used the external source for that font so the layout was complete. Not sure what the issue with the local font is. There is a stray closing brace in your stylesheet right after the fonts, but I doubt that has anything to do with the issue at hand.']\n",
            "['Could you post the whole code, please?']\n",
            "['Solved by taylorbalbi in post #2 Found the answer guys, after browsing through the python looping techniques documentation… its really simple than i imagined… Here’s the solution, just zip the both lists in for loop and then calculated the difference. [image]']\n",
            "['Looks like you discovered some weirdness with the error handling of JS. This code (as shown) should not run. Are we missing some of the code? One expects you will remove the debugging logs after this.']\n",
            "['jimbotts3360527205: Or, does one just need to memorize use in each programming language. Probably closer to that, though I’m not sure memorize is the best word. It’s important to note that they are not interchangeable. Their use is definitely language specific. There would be few if any universal rules. There are typical uses that span many languages, but learning the use of (), [], {} will come with learning the language. I wouldn’t concentrate on memorizing when to use each.']\n",
            "['You won’t know what steps to take next until you put yourself out there. Talk to people. What do they need that you are now equipped to provide, or at least give a hand with? We don’t advise learners. We only coach and provide learning support. What you do will be according to your wishes. So…']\n",
            "[]\n"
          ],
          "name": "stdout"
        }
      ]
    },
    {
      "cell_type": "code",
      "metadata": {
        "id": "3JRjucQ9xhZj",
        "colab": {
          "base_uri": "https://localhost:8080/",
          "height": 375
        },
        "outputId": "9c78340e-1bfb-42d6-db6c-5e524e61e906"
      },
      "source": [
        "logreg = Pipeline([('vect', TfidfVectorizer(stop_words=None)),\n",
        "                   ('tfidf', TfidfTransformer()),\n",
        "                   ('clf', LogisticRegression(n_jo  bs=1, C=10.526405263157894, max_iter=200)),\n",
        "               ])\n",
        "logreg.fit(X_train, y_train)\n",
        "\n",
        "y_pred = logreg.predict(X_test)\n",
        "\n",
        "print('accuracy %s' % accuracy_score(y_pred, y_test))\n",
        "res31 = accuracy_score(y_pred, y_test)\n",
        "print(classification_report(y_test, y_pred))"
      ],
      "execution_count": null,
      "outputs": [
        {
          "output_type": "error",
          "ename": "ValueError",
          "evalue": "ignored",
          "traceback": [
            "\u001b[0;31m---------------------------------------------------------------------------\u001b[0m",
            "\u001b[0;31mValueError\u001b[0m                                Traceback (most recent call last)",
            "\u001b[0;32m<ipython-input-101-8fe99beb434f>\u001b[0m in \u001b[0;36m<module>\u001b[0;34m()\u001b[0m\n\u001b[1;32m      3\u001b[0m                    \u001b[0;34m(\u001b[0m\u001b[0;34m'clf'\u001b[0m\u001b[0;34m,\u001b[0m \u001b[0mLogisticRegression\u001b[0m\u001b[0;34m(\u001b[0m\u001b[0mn_jobs\u001b[0m\u001b[0;34m=\u001b[0m\u001b[0;36m1\u001b[0m\u001b[0;34m,\u001b[0m \u001b[0mC\u001b[0m\u001b[0;34m=\u001b[0m\u001b[0;36m10.526405263157894\u001b[0m\u001b[0;34m,\u001b[0m \u001b[0mmax_iter\u001b[0m\u001b[0;34m=\u001b[0m\u001b[0;36m200\u001b[0m\u001b[0;34m)\u001b[0m\u001b[0;34m)\u001b[0m\u001b[0;34m,\u001b[0m\u001b[0;34m\u001b[0m\u001b[0;34m\u001b[0m\u001b[0m\n\u001b[1;32m      4\u001b[0m                ])\n\u001b[0;32m----> 5\u001b[0;31m \u001b[0mlogreg\u001b[0m\u001b[0;34m.\u001b[0m\u001b[0mfit\u001b[0m\u001b[0;34m(\u001b[0m\u001b[0mX_train\u001b[0m\u001b[0;34m,\u001b[0m \u001b[0my_train\u001b[0m\u001b[0;34m)\u001b[0m\u001b[0;34m\u001b[0m\u001b[0;34m\u001b[0m\u001b[0m\n\u001b[0m\u001b[1;32m      6\u001b[0m \u001b[0;34m\u001b[0m\u001b[0m\n\u001b[1;32m      7\u001b[0m \u001b[0my_pred\u001b[0m \u001b[0;34m=\u001b[0m \u001b[0mlogreg\u001b[0m\u001b[0;34m.\u001b[0m\u001b[0mpredict\u001b[0m\u001b[0;34m(\u001b[0m\u001b[0mX_test\u001b[0m\u001b[0;34m)\u001b[0m\u001b[0;34m\u001b[0m\u001b[0;34m\u001b[0m\u001b[0m\n",
            "\u001b[0;32m/usr/local/lib/python3.7/dist-packages/sklearn/pipeline.py\u001b[0m in \u001b[0;36mfit\u001b[0;34m(self, X, y, **fit_params)\u001b[0m\n\u001b[1;32m    348\u001b[0m             \u001b[0mThis\u001b[0m \u001b[0mestimator\u001b[0m\u001b[0;34m\u001b[0m\u001b[0;34m\u001b[0m\u001b[0m\n\u001b[1;32m    349\u001b[0m         \"\"\"\n\u001b[0;32m--> 350\u001b[0;31m         \u001b[0mXt\u001b[0m\u001b[0;34m,\u001b[0m \u001b[0mfit_params\u001b[0m \u001b[0;34m=\u001b[0m \u001b[0mself\u001b[0m\u001b[0;34m.\u001b[0m\u001b[0m_fit\u001b[0m\u001b[0;34m(\u001b[0m\u001b[0mX\u001b[0m\u001b[0;34m,\u001b[0m \u001b[0my\u001b[0m\u001b[0;34m,\u001b[0m \u001b[0;34m**\u001b[0m\u001b[0mfit_params\u001b[0m\u001b[0;34m)\u001b[0m\u001b[0;34m\u001b[0m\u001b[0;34m\u001b[0m\u001b[0m\n\u001b[0m\u001b[1;32m    351\u001b[0m         with _print_elapsed_time('Pipeline',\n\u001b[1;32m    352\u001b[0m                                  self._log_message(len(self.steps) - 1)):\n",
            "\u001b[0;32m/usr/local/lib/python3.7/dist-packages/sklearn/pipeline.py\u001b[0m in \u001b[0;36m_fit\u001b[0;34m(self, X, y, **fit_params)\u001b[0m\n\u001b[1;32m    313\u001b[0m                 \u001b[0mmessage_clsname\u001b[0m\u001b[0;34m=\u001b[0m\u001b[0;34m'Pipeline'\u001b[0m\u001b[0;34m,\u001b[0m\u001b[0;34m\u001b[0m\u001b[0;34m\u001b[0m\u001b[0m\n\u001b[1;32m    314\u001b[0m                 \u001b[0mmessage\u001b[0m\u001b[0;34m=\u001b[0m\u001b[0mself\u001b[0m\u001b[0;34m.\u001b[0m\u001b[0m_log_message\u001b[0m\u001b[0;34m(\u001b[0m\u001b[0mstep_idx\u001b[0m\u001b[0;34m)\u001b[0m\u001b[0;34m,\u001b[0m\u001b[0;34m\u001b[0m\u001b[0;34m\u001b[0m\u001b[0m\n\u001b[0;32m--> 315\u001b[0;31m                 **fit_params_steps[name])\n\u001b[0m\u001b[1;32m    316\u001b[0m             \u001b[0;31m# Replace the transformer of the step with the fitted\u001b[0m\u001b[0;34m\u001b[0m\u001b[0;34m\u001b[0m\u001b[0;34m\u001b[0m\u001b[0m\n\u001b[1;32m    317\u001b[0m             \u001b[0;31m# transformer. This is necessary when loading the transformer\u001b[0m\u001b[0;34m\u001b[0m\u001b[0;34m\u001b[0m\u001b[0;34m\u001b[0m\u001b[0m\n",
            "\u001b[0;32m/usr/local/lib/python3.7/dist-packages/joblib/memory.py\u001b[0m in \u001b[0;36m__call__\u001b[0;34m(self, *args, **kwargs)\u001b[0m\n\u001b[1;32m    350\u001b[0m \u001b[0;34m\u001b[0m\u001b[0m\n\u001b[1;32m    351\u001b[0m     \u001b[0;32mdef\u001b[0m \u001b[0m__call__\u001b[0m\u001b[0;34m(\u001b[0m\u001b[0mself\u001b[0m\u001b[0;34m,\u001b[0m \u001b[0;34m*\u001b[0m\u001b[0margs\u001b[0m\u001b[0;34m,\u001b[0m \u001b[0;34m**\u001b[0m\u001b[0mkwargs\u001b[0m\u001b[0;34m)\u001b[0m\u001b[0;34m:\u001b[0m\u001b[0;34m\u001b[0m\u001b[0;34m\u001b[0m\u001b[0m\n\u001b[0;32m--> 352\u001b[0;31m         \u001b[0;32mreturn\u001b[0m \u001b[0mself\u001b[0m\u001b[0;34m.\u001b[0m\u001b[0mfunc\u001b[0m\u001b[0;34m(\u001b[0m\u001b[0;34m*\u001b[0m\u001b[0margs\u001b[0m\u001b[0;34m,\u001b[0m \u001b[0;34m**\u001b[0m\u001b[0mkwargs\u001b[0m\u001b[0;34m)\u001b[0m\u001b[0;34m\u001b[0m\u001b[0;34m\u001b[0m\u001b[0m\n\u001b[0m\u001b[1;32m    353\u001b[0m \u001b[0;34m\u001b[0m\u001b[0m\n\u001b[1;32m    354\u001b[0m     \u001b[0;32mdef\u001b[0m \u001b[0mcall_and_shelve\u001b[0m\u001b[0;34m(\u001b[0m\u001b[0mself\u001b[0m\u001b[0;34m,\u001b[0m \u001b[0;34m*\u001b[0m\u001b[0margs\u001b[0m\u001b[0;34m,\u001b[0m \u001b[0;34m**\u001b[0m\u001b[0mkwargs\u001b[0m\u001b[0;34m)\u001b[0m\u001b[0;34m:\u001b[0m\u001b[0;34m\u001b[0m\u001b[0;34m\u001b[0m\u001b[0m\n",
            "\u001b[0;32m/usr/local/lib/python3.7/dist-packages/sklearn/pipeline.py\u001b[0m in \u001b[0;36m_fit_transform_one\u001b[0;34m(transformer, X, y, weight, message_clsname, message, **fit_params)\u001b[0m\n\u001b[1;32m    726\u001b[0m     \u001b[0;32mwith\u001b[0m \u001b[0m_print_elapsed_time\u001b[0m\u001b[0;34m(\u001b[0m\u001b[0mmessage_clsname\u001b[0m\u001b[0;34m,\u001b[0m \u001b[0mmessage\u001b[0m\u001b[0;34m)\u001b[0m\u001b[0;34m:\u001b[0m\u001b[0;34m\u001b[0m\u001b[0;34m\u001b[0m\u001b[0m\n\u001b[1;32m    727\u001b[0m         \u001b[0;32mif\u001b[0m \u001b[0mhasattr\u001b[0m\u001b[0;34m(\u001b[0m\u001b[0mtransformer\u001b[0m\u001b[0;34m,\u001b[0m \u001b[0;34m'fit_transform'\u001b[0m\u001b[0;34m)\u001b[0m\u001b[0;34m:\u001b[0m\u001b[0;34m\u001b[0m\u001b[0;34m\u001b[0m\u001b[0m\n\u001b[0;32m--> 728\u001b[0;31m             \u001b[0mres\u001b[0m \u001b[0;34m=\u001b[0m \u001b[0mtransformer\u001b[0m\u001b[0;34m.\u001b[0m\u001b[0mfit_transform\u001b[0m\u001b[0;34m(\u001b[0m\u001b[0mX\u001b[0m\u001b[0;34m,\u001b[0m \u001b[0my\u001b[0m\u001b[0;34m,\u001b[0m \u001b[0;34m**\u001b[0m\u001b[0mfit_params\u001b[0m\u001b[0;34m)\u001b[0m\u001b[0;34m\u001b[0m\u001b[0;34m\u001b[0m\u001b[0m\n\u001b[0m\u001b[1;32m    729\u001b[0m         \u001b[0;32melse\u001b[0m\u001b[0;34m:\u001b[0m\u001b[0;34m\u001b[0m\u001b[0;34m\u001b[0m\u001b[0m\n\u001b[1;32m    730\u001b[0m             \u001b[0mres\u001b[0m \u001b[0;34m=\u001b[0m \u001b[0mtransformer\u001b[0m\u001b[0;34m.\u001b[0m\u001b[0mfit\u001b[0m\u001b[0;34m(\u001b[0m\u001b[0mX\u001b[0m\u001b[0;34m,\u001b[0m \u001b[0my\u001b[0m\u001b[0;34m,\u001b[0m \u001b[0;34m**\u001b[0m\u001b[0mfit_params\u001b[0m\u001b[0;34m)\u001b[0m\u001b[0;34m.\u001b[0m\u001b[0mtransform\u001b[0m\u001b[0;34m(\u001b[0m\u001b[0mX\u001b[0m\u001b[0;34m)\u001b[0m\u001b[0;34m\u001b[0m\u001b[0;34m\u001b[0m\u001b[0m\n",
            "\u001b[0;32m/usr/local/lib/python3.7/dist-packages/sklearn/feature_extraction/text.py\u001b[0m in \u001b[0;36mfit_transform\u001b[0;34m(self, raw_documents, y)\u001b[0m\n\u001b[1;32m   1857\u001b[0m         \"\"\"\n\u001b[1;32m   1858\u001b[0m         \u001b[0mself\u001b[0m\u001b[0;34m.\u001b[0m\u001b[0m_check_params\u001b[0m\u001b[0;34m(\u001b[0m\u001b[0;34m)\u001b[0m\u001b[0;34m\u001b[0m\u001b[0;34m\u001b[0m\u001b[0m\n\u001b[0;32m-> 1859\u001b[0;31m         \u001b[0mX\u001b[0m \u001b[0;34m=\u001b[0m \u001b[0msuper\u001b[0m\u001b[0;34m(\u001b[0m\u001b[0;34m)\u001b[0m\u001b[0;34m.\u001b[0m\u001b[0mfit_transform\u001b[0m\u001b[0;34m(\u001b[0m\u001b[0mraw_documents\u001b[0m\u001b[0;34m)\u001b[0m\u001b[0;34m\u001b[0m\u001b[0;34m\u001b[0m\u001b[0m\n\u001b[0m\u001b[1;32m   1860\u001b[0m         \u001b[0mself\u001b[0m\u001b[0;34m.\u001b[0m\u001b[0m_tfidf\u001b[0m\u001b[0;34m.\u001b[0m\u001b[0mfit\u001b[0m\u001b[0;34m(\u001b[0m\u001b[0mX\u001b[0m\u001b[0;34m)\u001b[0m\u001b[0;34m\u001b[0m\u001b[0;34m\u001b[0m\u001b[0m\n\u001b[1;32m   1861\u001b[0m         \u001b[0;31m# X is already a transformed view of raw_documents so\u001b[0m\u001b[0;34m\u001b[0m\u001b[0;34m\u001b[0m\u001b[0;34m\u001b[0m\u001b[0m\n",
            "\u001b[0;32m/usr/local/lib/python3.7/dist-packages/sklearn/feature_extraction/text.py\u001b[0m in \u001b[0;36mfit_transform\u001b[0;34m(self, raw_documents, y)\u001b[0m\n\u001b[1;32m   1218\u001b[0m \u001b[0;34m\u001b[0m\u001b[0m\n\u001b[1;32m   1219\u001b[0m         vocabulary, X = self._count_vocab(raw_documents,\n\u001b[0;32m-> 1220\u001b[0;31m                                           self.fixed_vocabulary_)\n\u001b[0m\u001b[1;32m   1221\u001b[0m \u001b[0;34m\u001b[0m\u001b[0m\n\u001b[1;32m   1222\u001b[0m         \u001b[0;32mif\u001b[0m \u001b[0mself\u001b[0m\u001b[0;34m.\u001b[0m\u001b[0mbinary\u001b[0m\u001b[0;34m:\u001b[0m\u001b[0;34m\u001b[0m\u001b[0;34m\u001b[0m\u001b[0m\n",
            "\u001b[0;32m/usr/local/lib/python3.7/dist-packages/sklearn/feature_extraction/text.py\u001b[0m in \u001b[0;36m_count_vocab\u001b[0;34m(self, raw_documents, fixed_vocab)\u001b[0m\n\u001b[1;32m   1148\u001b[0m             \u001b[0mvocabulary\u001b[0m \u001b[0;34m=\u001b[0m \u001b[0mdict\u001b[0m\u001b[0;34m(\u001b[0m\u001b[0mvocabulary\u001b[0m\u001b[0;34m)\u001b[0m\u001b[0;34m\u001b[0m\u001b[0;34m\u001b[0m\u001b[0m\n\u001b[1;32m   1149\u001b[0m             \u001b[0;32mif\u001b[0m \u001b[0;32mnot\u001b[0m \u001b[0mvocabulary\u001b[0m\u001b[0;34m:\u001b[0m\u001b[0;34m\u001b[0m\u001b[0;34m\u001b[0m\u001b[0m\n\u001b[0;32m-> 1150\u001b[0;31m                 raise ValueError(\"empty vocabulary; perhaps the documents only\"\n\u001b[0m\u001b[1;32m   1151\u001b[0m                                  \" contain stop words\")\n\u001b[1;32m   1152\u001b[0m \u001b[0;34m\u001b[0m\u001b[0m\n",
            "\u001b[0;31mValueError\u001b[0m: empty vocabulary; perhaps the documents only contain stop words"
          ]
        }
      ]
    },
    {
      "cell_type": "markdown",
      "metadata": {
        "id": "5KZlNNL2W40m"
      },
      "source": [
        "MODEL -02"
      ]
    },
    {
      "cell_type": "code",
      "metadata": {
        "id": "NUB1nXbVSFkN"
      },
      "source": [
        "X = DF1.texts\n",
        "y = DF1.labels\n",
        "X_train, X_test, y_train, y_test = train_test_split(X, y, test_size=0.2, random_state = 42)"
      ],
      "execution_count": null,
      "outputs": []
    },
    {
      "cell_type": "code",
      "metadata": {
        "colab": {
          "base_uri": "https://localhost:8080/"
        },
        "id": "6U66BWSRW7Lq",
        "outputId": "4ef5ed79-d217-45e6-b548-a33d64caa5af"
      },
      "source": [
        "X_train.head()"
      ],
      "execution_count": null,
      "outputs": [
        {
          "output_type": "execute_result",
          "data": {
            "text/plain": [
              "45     [I also need some help here. I’m in the same s...\n",
              "13     [Solved by taylorbalbi in post #2 Found the an...\n",
              "16     [What do you mean, exactly? The p tag in your ...\n",
              "71     [@ data6260682876 If u don’t use selectors wer...\n",
              "109    [El error que te da es éste: AttributeError: m...\n",
              "Name: texts, dtype: object"
            ]
          },
          "metadata": {
            "tags": []
          },
          "execution_count": 44
        }
      ]
    },
    {
      "cell_type": "code",
      "metadata": {
        "colab": {
          "base_uri": "https://localhost:8080/"
        },
        "id": "zgw_EbMNXKa_",
        "outputId": "4b15eab7-6272-4f90-c3b9-2b542e76144a"
      },
      "source": [
        "y_train.head()"
      ],
      "execution_count": null,
      "outputs": [
        {
          "output_type": "execute_result",
          "data": {
            "text/plain": [
              "45     Python\n",
              "13     Python\n",
              "16       HTML\n",
              "71        CSS\n",
              "109    Python\n",
              "Name: labels, dtype: object"
            ]
          },
          "metadata": {
            "tags": []
          },
          "execution_count": 45
        }
      ]
    },
    {
      "cell_type": "code",
      "metadata": {
        "colab": {
          "base_uri": "https://localhost:8080/",
          "height": 341
        },
        "id": "GQo8S96jXOHM",
        "outputId": "2d1bf533-e436-4c89-ce97-04b20e222de2"
      },
      "source": [
        "from sklearn.linear_model import LogisticRegression\n",
        "\n",
        "def Logistic_Regression(X_train, X_test, y_train, y_test):\n",
        "    logreg = Pipeline([('vect', CountVectorizer()),\n",
        "                    ('tfidf', TfidfTransformer()),\n",
        "                    ('clf', LogisticRegression(n_jobs=1, C=1e5)),\n",
        "                   ])\n",
        "    logreg.fit(X_train, y_train)\n",
        "\n",
        "    y_pred = logreg.predict (X_test)\n",
        "\n",
        "    print('accuracy %s' % accuracy_score(y_pred, y_test))\n",
        "    print(classification_report(y_test, y_pred,target_names=my_categories))\n",
        "    return accuracy_score(y_pred, y_test)\n",
        "res1331 = Logistic_Regression(X_train, X_test, y_train, y_test)"
      ],
      "execution_count": null,
      "outputs": [
        {
          "output_type": "error",
          "ename": "AttributeError",
          "evalue": "ignored",
          "traceback": [
            "\u001b[0;31m---------------------------------------------------------------------------\u001b[0m",
            "\u001b[0;31mAttributeError\u001b[0m                            Traceback (most recent call last)",
            "\u001b[0;32m<ipython-input-50-9dd555a98664>\u001b[0m in \u001b[0;36m<module>\u001b[0;34m()\u001b[0m\n\u001b[1;32m     13\u001b[0m     \u001b[0mprint\u001b[0m\u001b[0;34m(\u001b[0m\u001b[0mclassification_report\u001b[0m\u001b[0;34m(\u001b[0m\u001b[0my_test\u001b[0m\u001b[0;34m,\u001b[0m \u001b[0my_pred\u001b[0m\u001b[0;34m,\u001b[0m\u001b[0mtarget_names\u001b[0m\u001b[0;34m=\u001b[0m\u001b[0mmy_categories\u001b[0m\u001b[0;34m)\u001b[0m\u001b[0;34m)\u001b[0m\u001b[0;34m\u001b[0m\u001b[0;34m\u001b[0m\u001b[0m\n\u001b[1;32m     14\u001b[0m     \u001b[0;32mreturn\u001b[0m \u001b[0maccuracy_score\u001b[0m\u001b[0;34m(\u001b[0m\u001b[0my_pred\u001b[0m\u001b[0;34m,\u001b[0m \u001b[0my_test\u001b[0m\u001b[0;34m)\u001b[0m\u001b[0;34m\u001b[0m\u001b[0;34m\u001b[0m\u001b[0m\n\u001b[0;32m---> 15\u001b[0;31m \u001b[0mres1331\u001b[0m \u001b[0;34m=\u001b[0m \u001b[0mLogistic_Regression\u001b[0m\u001b[0;34m(\u001b[0m\u001b[0mX_train\u001b[0m\u001b[0;34m,\u001b[0m \u001b[0mX_test\u001b[0m\u001b[0;34m,\u001b[0m \u001b[0my_train\u001b[0m\u001b[0;34m,\u001b[0m \u001b[0my_test\u001b[0m\u001b[0;34m)\u001b[0m\u001b[0;34m\u001b[0m\u001b[0;34m\u001b[0m\u001b[0m\n\u001b[0m",
            "\u001b[0;32m<ipython-input-50-9dd555a98664>\u001b[0m in \u001b[0;36mLogistic_Regression\u001b[0;34m(X_train, X_test, y_train, y_test)\u001b[0m\n\u001b[1;32m      6\u001b[0m                     \u001b[0;34m(\u001b[0m\u001b[0;34m'clf'\u001b[0m\u001b[0;34m,\u001b[0m \u001b[0mLogisticRegression\u001b[0m\u001b[0;34m(\u001b[0m\u001b[0mn_jobs\u001b[0m\u001b[0;34m=\u001b[0m\u001b[0;36m1\u001b[0m\u001b[0;34m,\u001b[0m \u001b[0mC\u001b[0m\u001b[0;34m=\u001b[0m\u001b[0;36m1e5\u001b[0m\u001b[0;34m)\u001b[0m\u001b[0;34m)\u001b[0m\u001b[0;34m,\u001b[0m\u001b[0;34m\u001b[0m\u001b[0;34m\u001b[0m\u001b[0m\n\u001b[1;32m      7\u001b[0m                    ])\n\u001b[0;32m----> 8\u001b[0;31m     \u001b[0mlogreg\u001b[0m\u001b[0;34m.\u001b[0m\u001b[0mfit\u001b[0m\u001b[0;34m(\u001b[0m\u001b[0mX_train\u001b[0m\u001b[0;34m,\u001b[0m \u001b[0my_train\u001b[0m\u001b[0;34m)\u001b[0m\u001b[0;34m\u001b[0m\u001b[0;34m\u001b[0m\u001b[0m\n\u001b[0m\u001b[1;32m      9\u001b[0m \u001b[0;34m\u001b[0m\u001b[0m\n\u001b[1;32m     10\u001b[0m     \u001b[0my_pred\u001b[0m \u001b[0;34m=\u001b[0m \u001b[0mlogreg\u001b[0m\u001b[0;34m.\u001b[0m\u001b[0mpredict\u001b[0m \u001b[0;34m(\u001b[0m\u001b[0mX_test\u001b[0m\u001b[0;34m)\u001b[0m\u001b[0;34m\u001b[0m\u001b[0;34m\u001b[0m\u001b[0m\n",
            "\u001b[0;32m/usr/local/lib/python3.7/dist-packages/sklearn/pipeline.py\u001b[0m in \u001b[0;36mfit\u001b[0;34m(self, X, y, **fit_params)\u001b[0m\n\u001b[1;32m    348\u001b[0m             \u001b[0mThis\u001b[0m \u001b[0mestimator\u001b[0m\u001b[0;34m\u001b[0m\u001b[0;34m\u001b[0m\u001b[0m\n\u001b[1;32m    349\u001b[0m         \"\"\"\n\u001b[0;32m--> 350\u001b[0;31m         \u001b[0mXt\u001b[0m\u001b[0;34m,\u001b[0m \u001b[0mfit_params\u001b[0m \u001b[0;34m=\u001b[0m \u001b[0mself\u001b[0m\u001b[0;34m.\u001b[0m\u001b[0m_fit\u001b[0m\u001b[0;34m(\u001b[0m\u001b[0mX\u001b[0m\u001b[0;34m,\u001b[0m \u001b[0my\u001b[0m\u001b[0;34m,\u001b[0m \u001b[0;34m**\u001b[0m\u001b[0mfit_params\u001b[0m\u001b[0;34m)\u001b[0m\u001b[0;34m\u001b[0m\u001b[0;34m\u001b[0m\u001b[0m\n\u001b[0m\u001b[1;32m    351\u001b[0m         with _print_elapsed_time('Pipeline',\n\u001b[1;32m    352\u001b[0m                                  self._log_message(len(self.steps) - 1)):\n",
            "\u001b[0;32m/usr/local/lib/python3.7/dist-packages/sklearn/pipeline.py\u001b[0m in \u001b[0;36m_fit\u001b[0;34m(self, X, y, **fit_params)\u001b[0m\n\u001b[1;32m    313\u001b[0m                 \u001b[0mmessage_clsname\u001b[0m\u001b[0;34m=\u001b[0m\u001b[0;34m'Pipeline'\u001b[0m\u001b[0;34m,\u001b[0m\u001b[0;34m\u001b[0m\u001b[0;34m\u001b[0m\u001b[0m\n\u001b[1;32m    314\u001b[0m                 \u001b[0mmessage\u001b[0m\u001b[0;34m=\u001b[0m\u001b[0mself\u001b[0m\u001b[0;34m.\u001b[0m\u001b[0m_log_message\u001b[0m\u001b[0;34m(\u001b[0m\u001b[0mstep_idx\u001b[0m\u001b[0;34m)\u001b[0m\u001b[0;34m,\u001b[0m\u001b[0;34m\u001b[0m\u001b[0;34m\u001b[0m\u001b[0m\n\u001b[0;32m--> 315\u001b[0;31m                 **fit_params_steps[name])\n\u001b[0m\u001b[1;32m    316\u001b[0m             \u001b[0;31m# Replace the transformer of the step with the fitted\u001b[0m\u001b[0;34m\u001b[0m\u001b[0;34m\u001b[0m\u001b[0;34m\u001b[0m\u001b[0m\n\u001b[1;32m    317\u001b[0m             \u001b[0;31m# transformer. This is necessary when loading the transformer\u001b[0m\u001b[0;34m\u001b[0m\u001b[0;34m\u001b[0m\u001b[0;34m\u001b[0m\u001b[0m\n",
            "\u001b[0;32m/usr/local/lib/python3.7/dist-packages/joblib/memory.py\u001b[0m in \u001b[0;36m__call__\u001b[0;34m(self, *args, **kwargs)\u001b[0m\n\u001b[1;32m    350\u001b[0m \u001b[0;34m\u001b[0m\u001b[0m\n\u001b[1;32m    351\u001b[0m     \u001b[0;32mdef\u001b[0m \u001b[0m__call__\u001b[0m\u001b[0;34m(\u001b[0m\u001b[0mself\u001b[0m\u001b[0;34m,\u001b[0m \u001b[0;34m*\u001b[0m\u001b[0margs\u001b[0m\u001b[0;34m,\u001b[0m \u001b[0;34m**\u001b[0m\u001b[0mkwargs\u001b[0m\u001b[0;34m)\u001b[0m\u001b[0;34m:\u001b[0m\u001b[0;34m\u001b[0m\u001b[0;34m\u001b[0m\u001b[0m\n\u001b[0;32m--> 352\u001b[0;31m         \u001b[0;32mreturn\u001b[0m \u001b[0mself\u001b[0m\u001b[0;34m.\u001b[0m\u001b[0mfunc\u001b[0m\u001b[0;34m(\u001b[0m\u001b[0;34m*\u001b[0m\u001b[0margs\u001b[0m\u001b[0;34m,\u001b[0m \u001b[0;34m**\u001b[0m\u001b[0mkwargs\u001b[0m\u001b[0;34m)\u001b[0m\u001b[0;34m\u001b[0m\u001b[0;34m\u001b[0m\u001b[0m\n\u001b[0m\u001b[1;32m    353\u001b[0m \u001b[0;34m\u001b[0m\u001b[0m\n\u001b[1;32m    354\u001b[0m     \u001b[0;32mdef\u001b[0m \u001b[0mcall_and_shelve\u001b[0m\u001b[0;34m(\u001b[0m\u001b[0mself\u001b[0m\u001b[0;34m,\u001b[0m \u001b[0;34m*\u001b[0m\u001b[0margs\u001b[0m\u001b[0;34m,\u001b[0m \u001b[0;34m**\u001b[0m\u001b[0mkwargs\u001b[0m\u001b[0;34m)\u001b[0m\u001b[0;34m:\u001b[0m\u001b[0;34m\u001b[0m\u001b[0;34m\u001b[0m\u001b[0m\n",
            "\u001b[0;32m/usr/local/lib/python3.7/dist-packages/sklearn/pipeline.py\u001b[0m in \u001b[0;36m_fit_transform_one\u001b[0;34m(transformer, X, y, weight, message_clsname, message, **fit_params)\u001b[0m\n\u001b[1;32m    726\u001b[0m     \u001b[0;32mwith\u001b[0m \u001b[0m_print_elapsed_time\u001b[0m\u001b[0;34m(\u001b[0m\u001b[0mmessage_clsname\u001b[0m\u001b[0;34m,\u001b[0m \u001b[0mmessage\u001b[0m\u001b[0;34m)\u001b[0m\u001b[0;34m:\u001b[0m\u001b[0;34m\u001b[0m\u001b[0;34m\u001b[0m\u001b[0m\n\u001b[1;32m    727\u001b[0m         \u001b[0;32mif\u001b[0m \u001b[0mhasattr\u001b[0m\u001b[0;34m(\u001b[0m\u001b[0mtransformer\u001b[0m\u001b[0;34m,\u001b[0m \u001b[0;34m'fit_transform'\u001b[0m\u001b[0;34m)\u001b[0m\u001b[0;34m:\u001b[0m\u001b[0;34m\u001b[0m\u001b[0;34m\u001b[0m\u001b[0m\n\u001b[0;32m--> 728\u001b[0;31m             \u001b[0mres\u001b[0m \u001b[0;34m=\u001b[0m \u001b[0mtransformer\u001b[0m\u001b[0;34m.\u001b[0m\u001b[0mfit_transform\u001b[0m\u001b[0;34m(\u001b[0m\u001b[0mX\u001b[0m\u001b[0;34m,\u001b[0m \u001b[0my\u001b[0m\u001b[0;34m,\u001b[0m \u001b[0;34m**\u001b[0m\u001b[0mfit_params\u001b[0m\u001b[0;34m)\u001b[0m\u001b[0;34m\u001b[0m\u001b[0;34m\u001b[0m\u001b[0m\n\u001b[0m\u001b[1;32m    729\u001b[0m         \u001b[0;32melse\u001b[0m\u001b[0;34m:\u001b[0m\u001b[0;34m\u001b[0m\u001b[0;34m\u001b[0m\u001b[0m\n\u001b[1;32m    730\u001b[0m             \u001b[0mres\u001b[0m \u001b[0;34m=\u001b[0m \u001b[0mtransformer\u001b[0m\u001b[0;34m.\u001b[0m\u001b[0mfit\u001b[0m\u001b[0;34m(\u001b[0m\u001b[0mX\u001b[0m\u001b[0;34m,\u001b[0m \u001b[0my\u001b[0m\u001b[0;34m,\u001b[0m \u001b[0;34m**\u001b[0m\u001b[0mfit_params\u001b[0m\u001b[0;34m)\u001b[0m\u001b[0;34m.\u001b[0m\u001b[0mtransform\u001b[0m\u001b[0;34m(\u001b[0m\u001b[0mX\u001b[0m\u001b[0;34m)\u001b[0m\u001b[0;34m\u001b[0m\u001b[0;34m\u001b[0m\u001b[0m\n",
            "\u001b[0;32m/usr/local/lib/python3.7/dist-packages/sklearn/feature_extraction/text.py\u001b[0m in \u001b[0;36mfit_transform\u001b[0;34m(self, raw_documents, y)\u001b[0m\n\u001b[1;32m   1218\u001b[0m             \u001b[0mX\u001b[0m\u001b[0;34m.\u001b[0m\u001b[0mdata\u001b[0m\u001b[0;34m.\u001b[0m\u001b[0mfill\u001b[0m\u001b[0;34m(\u001b[0m\u001b[0;36m1\u001b[0m\u001b[0;34m)\u001b[0m\u001b[0;34m\u001b[0m\u001b[0;34m\u001b[0m\u001b[0m\n\u001b[1;32m   1219\u001b[0m \u001b[0;34m\u001b[0m\u001b[0m\n\u001b[0;32m-> 1220\u001b[0;31m         \u001b[0;32mif\u001b[0m \u001b[0;32mnot\u001b[0m \u001b[0mself\u001b[0m\u001b[0;34m.\u001b[0m\u001b[0mfixed_vocabulary_\u001b[0m\u001b[0;34m:\u001b[0m\u001b[0;34m\u001b[0m\u001b[0;34m\u001b[0m\u001b[0m\n\u001b[0m\u001b[1;32m   1221\u001b[0m             \u001b[0mX\u001b[0m \u001b[0;34m=\u001b[0m \u001b[0mself\u001b[0m\u001b[0;34m.\u001b[0m\u001b[0m_sort_features\u001b[0m\u001b[0;34m(\u001b[0m\u001b[0mX\u001b[0m\u001b[0;34m,\u001b[0m \u001b[0mvocabulary\u001b[0m\u001b[0;34m)\u001b[0m\u001b[0;34m\u001b[0m\u001b[0;34m\u001b[0m\u001b[0m\n\u001b[1;32m   1222\u001b[0m \u001b[0;34m\u001b[0m\u001b[0m\n",
            "\u001b[0;32m/usr/local/lib/python3.7/dist-packages/sklearn/feature_extraction/text.py\u001b[0m in \u001b[0;36m_count_vocab\u001b[0;34m(self, raw_documents, fixed_vocab)\u001b[0m\n\u001b[1;32m   1129\u001b[0m                     \u001b[0;32mif\u001b[0m \u001b[0mfeature_idx\u001b[0m \u001b[0;32mnot\u001b[0m \u001b[0;32min\u001b[0m \u001b[0mfeature_counter\u001b[0m\u001b[0;34m:\u001b[0m\u001b[0;34m\u001b[0m\u001b[0;34m\u001b[0m\u001b[0m\n\u001b[1;32m   1130\u001b[0m                         \u001b[0mfeature_counter\u001b[0m\u001b[0;34m[\u001b[0m\u001b[0mfeature_idx\u001b[0m\u001b[0;34m]\u001b[0m \u001b[0;34m=\u001b[0m \u001b[0;36m1\u001b[0m\u001b[0;34m\u001b[0m\u001b[0;34m\u001b[0m\u001b[0m\n\u001b[0;32m-> 1131\u001b[0;31m                     \u001b[0;32melse\u001b[0m\u001b[0;34m:\u001b[0m\u001b[0;34m\u001b[0m\u001b[0;34m\u001b[0m\u001b[0m\n\u001b[0m\u001b[1;32m   1132\u001b[0m                         \u001b[0mfeature_counter\u001b[0m\u001b[0;34m[\u001b[0m\u001b[0mfeature_idx\u001b[0m\u001b[0;34m]\u001b[0m \u001b[0;34m+=\u001b[0m \u001b[0;36m1\u001b[0m\u001b[0;34m\u001b[0m\u001b[0;34m\u001b[0m\u001b[0m\n\u001b[1;32m   1133\u001b[0m                 \u001b[0;32mexcept\u001b[0m \u001b[0mKeyError\u001b[0m\u001b[0;34m:\u001b[0m\u001b[0;34m\u001b[0m\u001b[0;34m\u001b[0m\u001b[0m\n",
            "\u001b[0;32m/usr/local/lib/python3.7/dist-packages/sklearn/feature_extraction/text.py\u001b[0m in \u001b[0;36m_analyze\u001b[0;34m(doc, analyzer, tokenizer, ngrams, preprocessor, decoder, stop_words)\u001b[0m\n\u001b[1;32m    101\u001b[0m         \u001b[0;32mif\u001b[0m \u001b[0mngrams\u001b[0m \u001b[0;32mis\u001b[0m \u001b[0;32mnot\u001b[0m \u001b[0;32mNone\u001b[0m\u001b[0;34m:\u001b[0m\u001b[0;34m\u001b[0m\u001b[0;34m\u001b[0m\u001b[0m\n\u001b[1;32m    102\u001b[0m             \u001b[0;32mif\u001b[0m \u001b[0mstop_words\u001b[0m \u001b[0;32mis\u001b[0m \u001b[0;32mnot\u001b[0m \u001b[0;32mNone\u001b[0m\u001b[0;34m:\u001b[0m\u001b[0;34m\u001b[0m\u001b[0;34m\u001b[0m\u001b[0m\n\u001b[0;32m--> 103\u001b[0;31m                 \u001b[0mdoc\u001b[0m \u001b[0;34m=\u001b[0m \u001b[0mngrams\u001b[0m\u001b[0;34m(\u001b[0m\u001b[0mdoc\u001b[0m\u001b[0;34m,\u001b[0m \u001b[0mstop_words\u001b[0m\u001b[0;34m)\u001b[0m\u001b[0;34m\u001b[0m\u001b[0;34m\u001b[0m\u001b[0m\n\u001b[0m\u001b[1;32m    104\u001b[0m             \u001b[0;32melse\u001b[0m\u001b[0;34m:\u001b[0m\u001b[0;34m\u001b[0m\u001b[0;34m\u001b[0m\u001b[0m\n\u001b[1;32m    105\u001b[0m                 \u001b[0mdoc\u001b[0m \u001b[0;34m=\u001b[0m \u001b[0mngrams\u001b[0m\u001b[0;34m(\u001b[0m\u001b[0mdoc\u001b[0m\u001b[0;34m)\u001b[0m\u001b[0;34m\u001b[0m\u001b[0;34m\u001b[0m\u001b[0m\n",
            "\u001b[0;32m/usr/local/lib/python3.7/dist-packages/sklearn/feature_extraction/text.py\u001b[0m in \u001b[0;36m_preprocess\u001b[0;34m(doc, accent_function, lower)\u001b[0m\n\u001b[1;32m     66\u001b[0m     \"\"\"\n\u001b[1;32m     67\u001b[0m \u001b[0;34m\u001b[0m\u001b[0m\n\u001b[0;32m---> 68\u001b[0;31m \u001b[0;34m\u001b[0m\u001b[0m\n\u001b[0m\u001b[1;32m     69\u001b[0m def _analyze(doc, analyzer=None, tokenizer=None, ngrams=None,\n\u001b[1;32m     70\u001b[0m              preprocessor=None, decoder=None, stop_words=None):\n",
            "\u001b[0;31mAttributeError\u001b[0m: 'list' object has no attribute 'lower'"
          ]
        }
      ]
    },
    {
      "cell_type": "code",
      "metadata": {
        "id": "cOHk82zcXScZ"
      },
      "source": [
        ""
      ],
      "execution_count": null,
      "outputs": []
    }
  ]
}